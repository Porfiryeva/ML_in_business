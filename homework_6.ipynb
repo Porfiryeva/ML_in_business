{
 "cells": [
  {
   "cell_type": "code",
   "execution_count": 1,
   "id": "87d66d29",
   "metadata": {},
   "outputs": [],
   "source": [
    "import pandas as pd\n",
    "import numpy as np\n",
    "\n",
    "from sklearn.model_selection import train_test_split, GridSearchCV\n",
    "from sklearn.preprocessing import StandardScaler, FunctionTransformer\n",
    "from sklearn.pipeline import Pipeline, FeatureUnion\n",
    "from sklearn.base import BaseEstimator, TransformerMixin\n",
    "from sklearn.linear_model import LogisticRegression\n",
    "from sklearn.ensemble import AdaBoostClassifier\n",
    "from sklearn.metrics import (f1_score, \n",
    "                             roc_auc_score, \n",
    "                             precision_score, \n",
    "                             precision_recall_curve, \n",
    "                            )\n",
    "\n",
    "import seaborn as sns\n",
    "import matplotlib.pyplot as plt"
   ]
  },
  {
   "cell_type": "code",
   "execution_count": 2,
   "id": "c5f4bb9c",
   "metadata": {},
   "outputs": [],
   "source": [
    "def get_metrics(y_test, preds):\n",
    "    \n",
    "    precision, recall, thresholds = precision_recall_curve(y_test, preds)\n",
    "    fscore = (2 * precision * recall) / (precision + recall)\n",
    "    ix = np.nanargmax(fscore)\n",
    "    \n",
    "    return roc_auc_score(y_test, preds), precision[ix], recall[ix], fscore[ix], thresholds[ix]"
   ]
  },
  {
   "cell_type": "markdown",
   "id": "cb3b459c",
   "metadata": {},
   "source": [
    "#### 1. взять любой набор данных для бинарной классификации (можно скачать один из модельных с https://archive.ics.uci.edu/ml/datasets.php)"
   ]
  },
  {
   "cell_type": "markdown",
   "id": "30a8c89c",
   "metadata": {},
   "source": [
    "https://archive.ics.uci.edu/ml/datasets/Contraceptive+Method+Choice"
   ]
  },
  {
   "cell_type": "markdown",
   "id": "0fb32fdf",
   "metadata": {},
   "source": [
    "   1. Wife's age                     (numerical)\n",
    "   2. Wife's education               (categorical)      1=low, 2, 3, 4=high\n",
    "   3. Husband's education            (categorical)      1=low, 2, 3, 4=high\n",
    "   4. Number of children ever born   (numerical)\n",
    "   5. Wife's religion                (binary)           0=Non-Islam, 1=Islam\n",
    "   6. Wife's now working?            (binary)           0=Yes, 1=No\n",
    "   7. Husband's occupation           (categorical)      1, 2, 3, 4\n",
    "   8. Standard-of-living index       (categorical)      1=low, 2, 3, 4=high\n",
    "   9. Media exposure                 (binary)           0=Good, 1=Not good\n",
    "   10. Contraceptive method used     (class attribute)  1=No-use, 2=Long-term, 3=Short-term"
   ]
  },
  {
   "cell_type": "code",
   "execution_count": 3,
   "id": "01d26b7c",
   "metadata": {
    "scrolled": true
   },
   "outputs": [],
   "source": [
    "data = pd.read_csv('./data/cmc.data', header=None)\n",
    "data = data.sample(frac=1, random_state=42)\n",
    "data.columns = ['w_age', 'w_ed', 'h_ed', 'n_children', 'w_relig', 'w_working', \n",
    "                'h_occupation', 'std_liv_idx', 'media_expos', 'contr_mtd']"
   ]
  },
  {
   "cell_type": "code",
   "execution_count": 4,
   "id": "c5e7e940",
   "metadata": {},
   "outputs": [],
   "source": [
    "cont_columns = ['w_age', 'n_children']\n",
    "cat_columns = ['w_ed', 'h_ed',  'h_occupation', 'std_liv_idx']\n",
    "bin_columns = ['w_relig', 'w_working', 'media_expos']"
   ]
  },
  {
   "cell_type": "markdown",
   "id": "a48861f8",
   "metadata": {},
   "source": [
    "#### 2. сделать feature engineering"
   ]
  },
  {
   "cell_type": "code",
   "execution_count": 5,
   "id": "5a1ba24e",
   "metadata": {},
   "outputs": [
    {
     "data": {
      "text/plain": [
       "(1473, 10)"
      ]
     },
     "execution_count": 5,
     "metadata": {},
     "output_type": "execute_result"
    }
   ],
   "source": [
    "data.shape"
   ]
  },
  {
   "cell_type": "code",
   "execution_count": 6,
   "id": "8ca63f5b",
   "metadata": {},
   "outputs": [
    {
     "data": {
      "text/plain": [
       "48"
      ]
     },
     "execution_count": 6,
     "metadata": {},
     "output_type": "execute_result"
    }
   ],
   "source": [
    "data.duplicated().sum()"
   ]
  },
  {
   "cell_type": "markdown",
   "id": "9a17fbb5",
   "metadata": {},
   "source": [
    "target: 0 - Long-term или Short-term, 1 - No-use"
   ]
  },
  {
   "cell_type": "code",
   "execution_count": 7,
   "id": "85de47a9",
   "metadata": {},
   "outputs": [
    {
     "data": {
      "text/html": [
       "<div>\n",
       "<style scoped>\n",
       "    .dataframe tbody tr th:only-of-type {\n",
       "        vertical-align: middle;\n",
       "    }\n",
       "\n",
       "    .dataframe tbody tr th {\n",
       "        vertical-align: top;\n",
       "    }\n",
       "\n",
       "    .dataframe thead th {\n",
       "        text-align: right;\n",
       "    }\n",
       "</style>\n",
       "<table border=\"1\" class=\"dataframe\">\n",
       "  <thead>\n",
       "    <tr style=\"text-align: right;\">\n",
       "      <th></th>\n",
       "      <th>w_age</th>\n",
       "      <th>w_ed</th>\n",
       "      <th>h_ed</th>\n",
       "      <th>n_children</th>\n",
       "      <th>w_relig</th>\n",
       "      <th>w_working</th>\n",
       "      <th>h_occupation</th>\n",
       "      <th>std_liv_idx</th>\n",
       "      <th>media_expos</th>\n",
       "      <th>contr_mtd</th>\n",
       "      <th>target</th>\n",
       "    </tr>\n",
       "  </thead>\n",
       "  <tbody>\n",
       "    <tr>\n",
       "      <th>852</th>\n",
       "      <td>29</td>\n",
       "      <td>3</td>\n",
       "      <td>3</td>\n",
       "      <td>4</td>\n",
       "      <td>1</td>\n",
       "      <td>1</td>\n",
       "      <td>3</td>\n",
       "      <td>4</td>\n",
       "      <td>0</td>\n",
       "      <td>3</td>\n",
       "      <td>0</td>\n",
       "    </tr>\n",
       "    <tr>\n",
       "      <th>184</th>\n",
       "      <td>35</td>\n",
       "      <td>3</td>\n",
       "      <td>4</td>\n",
       "      <td>5</td>\n",
       "      <td>1</td>\n",
       "      <td>0</td>\n",
       "      <td>2</td>\n",
       "      <td>2</td>\n",
       "      <td>0</td>\n",
       "      <td>1</td>\n",
       "      <td>1</td>\n",
       "    </tr>\n",
       "    <tr>\n",
       "      <th>1261</th>\n",
       "      <td>23</td>\n",
       "      <td>4</td>\n",
       "      <td>4</td>\n",
       "      <td>1</td>\n",
       "      <td>0</td>\n",
       "      <td>1</td>\n",
       "      <td>1</td>\n",
       "      <td>4</td>\n",
       "      <td>0</td>\n",
       "      <td>2</td>\n",
       "      <td>0</td>\n",
       "    </tr>\n",
       "    <tr>\n",
       "      <th>67</th>\n",
       "      <td>30</td>\n",
       "      <td>2</td>\n",
       "      <td>3</td>\n",
       "      <td>3</td>\n",
       "      <td>1</td>\n",
       "      <td>1</td>\n",
       "      <td>3</td>\n",
       "      <td>1</td>\n",
       "      <td>0</td>\n",
       "      <td>1</td>\n",
       "      <td>1</td>\n",
       "    </tr>\n",
       "    <tr>\n",
       "      <th>220</th>\n",
       "      <td>22</td>\n",
       "      <td>2</td>\n",
       "      <td>3</td>\n",
       "      <td>1</td>\n",
       "      <td>1</td>\n",
       "      <td>1</td>\n",
       "      <td>3</td>\n",
       "      <td>3</td>\n",
       "      <td>0</td>\n",
       "      <td>1</td>\n",
       "      <td>1</td>\n",
       "    </tr>\n",
       "  </tbody>\n",
       "</table>\n",
       "</div>"
      ],
      "text/plain": [
       "      w_age  w_ed  h_ed  n_children  w_relig  w_working  h_occupation  \\\n",
       "852      29     3     3           4        1          1             3   \n",
       "184      35     3     4           5        1          0             2   \n",
       "1261     23     4     4           1        0          1             1   \n",
       "67       30     2     3           3        1          1             3   \n",
       "220      22     2     3           1        1          1             3   \n",
       "\n",
       "      std_liv_idx  media_expos  contr_mtd  target  \n",
       "852             4            0          3       0  \n",
       "184             2            0          1       1  \n",
       "1261            4            0          2       0  \n",
       "67              1            0          1       1  \n",
       "220             3            0          1       1  "
      ]
     },
     "execution_count": 7,
     "metadata": {},
     "output_type": "execute_result"
    }
   ],
   "source": [
    "data['target'] = data['contr_mtd'].where(data['contr_mtd'] == 1, 0)\n",
    "data.head()"
   ]
  },
  {
   "cell_type": "code",
   "execution_count": 8,
   "id": "b9bd40c1",
   "metadata": {},
   "outputs": [
    {
     "data": {
      "text/plain": [
       "0    844\n",
       "1    629\n",
       "Name: target, dtype: int64"
      ]
     },
     "execution_count": 8,
     "metadata": {},
     "output_type": "execute_result"
    }
   ],
   "source": [
    "data['target'].value_counts()"
   ]
  },
  {
   "cell_type": "code",
   "execution_count": 9,
   "id": "7f50d0b9",
   "metadata": {},
   "outputs": [
    {
     "data": {
      "text/plain": [
       "w_age           0\n",
       "w_ed            0\n",
       "h_ed            0\n",
       "n_children      0\n",
       "w_relig         0\n",
       "w_working       0\n",
       "h_occupation    0\n",
       "std_liv_idx     0\n",
       "media_expos     0\n",
       "contr_mtd       0\n",
       "target          0\n",
       "dtype: int64"
      ]
     },
     "execution_count": 9,
     "metadata": {},
     "output_type": "execute_result"
    }
   ],
   "source": [
    "# пропусков нет\n",
    "data.isna().sum()"
   ]
  },
  {
   "cell_type": "code",
   "execution_count": 10,
   "id": "3a8e0f9b",
   "metadata": {},
   "outputs": [
    {
     "data": {
      "text/html": [
       "<div>\n",
       "<style scoped>\n",
       "    .dataframe tbody tr th:only-of-type {\n",
       "        vertical-align: middle;\n",
       "    }\n",
       "\n",
       "    .dataframe tbody tr th {\n",
       "        vertical-align: top;\n",
       "    }\n",
       "\n",
       "    .dataframe thead th {\n",
       "        text-align: right;\n",
       "    }\n",
       "</style>\n",
       "<table border=\"1\" class=\"dataframe\">\n",
       "  <thead>\n",
       "    <tr style=\"text-align: right;\">\n",
       "      <th></th>\n",
       "      <th>w_age</th>\n",
       "      <th>w_ed</th>\n",
       "      <th>h_ed</th>\n",
       "      <th>n_children</th>\n",
       "      <th>w_relig</th>\n",
       "      <th>w_working</th>\n",
       "      <th>h_occupation</th>\n",
       "      <th>std_liv_idx</th>\n",
       "      <th>media_expos</th>\n",
       "      <th>contr_mtd</th>\n",
       "      <th>target</th>\n",
       "    </tr>\n",
       "  </thead>\n",
       "  <tbody>\n",
       "    <tr>\n",
       "      <th>count</th>\n",
       "      <td>1473.000000</td>\n",
       "      <td>1473.000000</td>\n",
       "      <td>1473.000000</td>\n",
       "      <td>1473.000000</td>\n",
       "      <td>1473.000000</td>\n",
       "      <td>1473.000000</td>\n",
       "      <td>1473.000000</td>\n",
       "      <td>1473.000000</td>\n",
       "      <td>1473.000000</td>\n",
       "      <td>1473.000000</td>\n",
       "      <td>1473.000000</td>\n",
       "    </tr>\n",
       "    <tr>\n",
       "      <th>mean</th>\n",
       "      <td>32.538357</td>\n",
       "      <td>2.958588</td>\n",
       "      <td>3.429735</td>\n",
       "      <td>3.261371</td>\n",
       "      <td>0.850645</td>\n",
       "      <td>0.749491</td>\n",
       "      <td>2.137814</td>\n",
       "      <td>3.133741</td>\n",
       "      <td>0.073999</td>\n",
       "      <td>1.919891</td>\n",
       "      <td>0.427020</td>\n",
       "    </tr>\n",
       "    <tr>\n",
       "      <th>std</th>\n",
       "      <td>8.227245</td>\n",
       "      <td>1.014994</td>\n",
       "      <td>0.816349</td>\n",
       "      <td>2.358549</td>\n",
       "      <td>0.356559</td>\n",
       "      <td>0.433453</td>\n",
       "      <td>0.864857</td>\n",
       "      <td>0.976161</td>\n",
       "      <td>0.261858</td>\n",
       "      <td>0.876376</td>\n",
       "      <td>0.494813</td>\n",
       "    </tr>\n",
       "    <tr>\n",
       "      <th>min</th>\n",
       "      <td>16.000000</td>\n",
       "      <td>1.000000</td>\n",
       "      <td>1.000000</td>\n",
       "      <td>0.000000</td>\n",
       "      <td>0.000000</td>\n",
       "      <td>0.000000</td>\n",
       "      <td>1.000000</td>\n",
       "      <td>1.000000</td>\n",
       "      <td>0.000000</td>\n",
       "      <td>1.000000</td>\n",
       "      <td>0.000000</td>\n",
       "    </tr>\n",
       "    <tr>\n",
       "      <th>25%</th>\n",
       "      <td>26.000000</td>\n",
       "      <td>2.000000</td>\n",
       "      <td>3.000000</td>\n",
       "      <td>1.000000</td>\n",
       "      <td>1.000000</td>\n",
       "      <td>0.000000</td>\n",
       "      <td>1.000000</td>\n",
       "      <td>3.000000</td>\n",
       "      <td>0.000000</td>\n",
       "      <td>1.000000</td>\n",
       "      <td>0.000000</td>\n",
       "    </tr>\n",
       "    <tr>\n",
       "      <th>50%</th>\n",
       "      <td>32.000000</td>\n",
       "      <td>3.000000</td>\n",
       "      <td>4.000000</td>\n",
       "      <td>3.000000</td>\n",
       "      <td>1.000000</td>\n",
       "      <td>1.000000</td>\n",
       "      <td>2.000000</td>\n",
       "      <td>3.000000</td>\n",
       "      <td>0.000000</td>\n",
       "      <td>2.000000</td>\n",
       "      <td>0.000000</td>\n",
       "    </tr>\n",
       "    <tr>\n",
       "      <th>75%</th>\n",
       "      <td>39.000000</td>\n",
       "      <td>4.000000</td>\n",
       "      <td>4.000000</td>\n",
       "      <td>4.000000</td>\n",
       "      <td>1.000000</td>\n",
       "      <td>1.000000</td>\n",
       "      <td>3.000000</td>\n",
       "      <td>4.000000</td>\n",
       "      <td>0.000000</td>\n",
       "      <td>3.000000</td>\n",
       "      <td>1.000000</td>\n",
       "    </tr>\n",
       "    <tr>\n",
       "      <th>max</th>\n",
       "      <td>49.000000</td>\n",
       "      <td>4.000000</td>\n",
       "      <td>4.000000</td>\n",
       "      <td>16.000000</td>\n",
       "      <td>1.000000</td>\n",
       "      <td>1.000000</td>\n",
       "      <td>4.000000</td>\n",
       "      <td>4.000000</td>\n",
       "      <td>1.000000</td>\n",
       "      <td>3.000000</td>\n",
       "      <td>1.000000</td>\n",
       "    </tr>\n",
       "  </tbody>\n",
       "</table>\n",
       "</div>"
      ],
      "text/plain": [
       "             w_age         w_ed         h_ed   n_children      w_relig  \\\n",
       "count  1473.000000  1473.000000  1473.000000  1473.000000  1473.000000   \n",
       "mean     32.538357     2.958588     3.429735     3.261371     0.850645   \n",
       "std       8.227245     1.014994     0.816349     2.358549     0.356559   \n",
       "min      16.000000     1.000000     1.000000     0.000000     0.000000   \n",
       "25%      26.000000     2.000000     3.000000     1.000000     1.000000   \n",
       "50%      32.000000     3.000000     4.000000     3.000000     1.000000   \n",
       "75%      39.000000     4.000000     4.000000     4.000000     1.000000   \n",
       "max      49.000000     4.000000     4.000000    16.000000     1.000000   \n",
       "\n",
       "         w_working  h_occupation  std_liv_idx  media_expos    contr_mtd  \\\n",
       "count  1473.000000   1473.000000  1473.000000  1473.000000  1473.000000   \n",
       "mean      0.749491      2.137814     3.133741     0.073999     1.919891   \n",
       "std       0.433453      0.864857     0.976161     0.261858     0.876376   \n",
       "min       0.000000      1.000000     1.000000     0.000000     1.000000   \n",
       "25%       0.000000      1.000000     3.000000     0.000000     1.000000   \n",
       "50%       1.000000      2.000000     3.000000     0.000000     2.000000   \n",
       "75%       1.000000      3.000000     4.000000     0.000000     3.000000   \n",
       "max       1.000000      4.000000     4.000000     1.000000     3.000000   \n",
       "\n",
       "            target  \n",
       "count  1473.000000  \n",
       "mean      0.427020  \n",
       "std       0.494813  \n",
       "min       0.000000  \n",
       "25%       0.000000  \n",
       "50%       0.000000  \n",
       "75%       1.000000  \n",
       "max       1.000000  "
      ]
     },
     "execution_count": 10,
     "metadata": {},
     "output_type": "execute_result"
    }
   ],
   "source": [
    "data.describe()"
   ]
  },
  {
   "cell_type": "code",
   "execution_count": 11,
   "id": "54c7ce3a",
   "metadata": {},
   "outputs": [],
   "source": [
    "X_train, X_test, y_train, y_test = train_test_split(data.drop(['contr_mtd', 'target'], axis=1), \n",
    "                                                    data['target'], random_state=0)"
   ]
  },
  {
   "cell_type": "code",
   "execution_count": 12,
   "id": "046fd19a",
   "metadata": {},
   "outputs": [],
   "source": [
    "X_train.reset_index(drop=True, inplace=True)\n",
    "X_test.reset_index(drop=True, inplace=True)\n",
    "y_train.reset_index(drop=True, inplace=True)\n",
    "y_test.reset_index(drop=True, inplace=True);"
   ]
  },
  {
   "cell_type": "markdown",
   "id": "189b71d2",
   "metadata": {},
   "source": [
    "##### Вещественные признаки"
   ]
  },
  {
   "cell_type": "markdown",
   "id": "62e028ed",
   "metadata": {},
   "source": [
    "распределения вещественных признаков - близко к нормальному:"
   ]
  },
  {
   "cell_type": "code",
   "execution_count": 13,
   "id": "b9fb3e5b",
   "metadata": {},
   "outputs": [
    {
     "data": {
      "text/plain": [
       "array([[<AxesSubplot: title={'center': 'w_age'}>,\n",
       "        <AxesSubplot: title={'center': 'n_children'}>]], dtype=object)"
      ]
     },
     "execution_count": 13,
     "metadata": {},
     "output_type": "execute_result"
    },
    {
     "data": {
      "image/png": "[encoded data removed]",
      "text/plain": [
       "<Figure size 432x288 with 2 Axes>"
      ]
     },
     "metadata": {
      "needs_background": "light"
     },
     "output_type": "display_data"
    }
   ],
   "source": [
    "X_train[cont_columns].hist()"
   ]
  },
  {
   "cell_type": "markdown",
   "id": "489e5d6b",
   "metadata": {},
   "source": [
    "- признаки **w_age_log** и **n_children_sqrt** с соответствующими преобразованиями"
   ]
  },
  {
   "cell_type": "code",
   "execution_count": 14,
   "id": "ca1d4157",
   "metadata": {},
   "outputs": [],
   "source": [
    "X_train['w_age_log'] = np.log(X_train['w_age'])\n",
    "X_train['n_children_sqrt'] = np.sqrt(X_train['n_children'])    \n",
    "\n",
    "X_test['w_age_log'] = np.log(X_test['w_age'])\n",
    "X_test['n_children_sqrt'] = np.sqrt(X_test['n_children'])"
   ]
  },
  {
   "cell_type": "markdown",
   "id": "7f84f0de",
   "metadata": {},
   "source": [
    "##### Категориальные признаки"
   ]
  },
  {
   "cell_type": "code",
   "execution_count": 15,
   "id": "50e45852",
   "metadata": {},
   "outputs": [
    {
     "data": {
      "image/png": "[encoded data removed]",
      "text/plain": [
       "<Figure size 720x576 with 4 Axes>"
      ]
     },
     "metadata": {
      "needs_background": "light"
     },
     "output_type": "display_data"
    }
   ],
   "source": [
    "X_train[cat_columns].hist(figsize=(10, 8));"
   ]
  },
  {
   "cell_type": "markdown",
   "id": "ce99770c",
   "metadata": {},
   "source": [
    "- onehot-кодирование для всех категориальных признаков"
   ]
  },
  {
   "cell_type": "code",
   "execution_count": 16,
   "id": "212d3fc8",
   "metadata": {},
   "outputs": [],
   "source": [
    "X_train = pd.concat([X_train, \n",
    "                     *[pd.get_dummies(X_train[cat], prefix=cat) for cat in cat_columns]],\n",
    "                     axis=1)\n",
    "X_test = pd.concat([X_test, \n",
    "                     *[pd.get_dummies(X_test[cat], prefix=cat) for cat in cat_columns]],\n",
    "                     axis=1)"
   ]
  },
  {
   "cell_type": "markdown",
   "id": "ac7516a3",
   "metadata": {},
   "source": [
    "- среднее число детей по бинам w_ed и h_ed"
   ]
  },
  {
   "cell_type": "code",
   "execution_count": 17,
   "id": "a1e6d7fc",
   "metadata": {
    "scrolled": true
   },
   "outputs": [
    {
     "data": {
      "text/html": [
       "<div>\n",
       "<style scoped>\n",
       "    .dataframe tbody tr th:only-of-type {\n",
       "        vertical-align: middle;\n",
       "    }\n",
       "\n",
       "    .dataframe tbody tr th {\n",
       "        vertical-align: top;\n",
       "    }\n",
       "\n",
       "    .dataframe thead th {\n",
       "        text-align: right;\n",
       "    }\n",
       "</style>\n",
       "<table border=\"1\" class=\"dataframe\">\n",
       "  <thead>\n",
       "    <tr style=\"text-align: right;\">\n",
       "      <th></th>\n",
       "      <th>w_ed</th>\n",
       "      <th>childs_per_w_ed</th>\n",
       "    </tr>\n",
       "  </thead>\n",
       "  <tbody>\n",
       "    <tr>\n",
       "      <th>0</th>\n",
       "      <td>1</td>\n",
       "      <td>4.431034</td>\n",
       "    </tr>\n",
       "    <tr>\n",
       "      <th>1</th>\n",
       "      <td>2</td>\n",
       "      <td>3.516529</td>\n",
       "    </tr>\n",
       "    <tr>\n",
       "      <th>2</th>\n",
       "      <td>3</td>\n",
       "      <td>3.303630</td>\n",
       "    </tr>\n",
       "    <tr>\n",
       "      <th>3</th>\n",
       "      <td>4</td>\n",
       "      <td>2.830700</td>\n",
       "    </tr>\n",
       "  </tbody>\n",
       "</table>\n",
       "</div>"
      ],
      "text/plain": [
       "   w_ed  childs_per_w_ed\n",
       "0     1         4.431034\n",
       "1     2         3.516529\n",
       "2     3         3.303630\n",
       "3     4         2.830700"
      ]
     },
     "execution_count": 17,
     "metadata": {},
     "output_type": "execute_result"
    }
   ],
   "source": [
    "childs_per_w_ed = (X_train.groupby('w_ed', as_index=False)\n",
    "                   .agg(childs_per_w_ed=('n_children', 'mean')))\n",
    "childs_per_w_ed"
   ]
  },
  {
   "cell_type": "code",
   "execution_count": 18,
   "id": "83d27efa",
   "metadata": {},
   "outputs": [],
   "source": [
    "X_train = X_train.merge(childs_per_w_ed, on=['w_ed'], how='left')\n",
    "X_test = X_test.merge(childs_per_w_ed, on=['w_ed'], how='left')"
   ]
  },
  {
   "cell_type": "code",
   "execution_count": 19,
   "id": "fb096523",
   "metadata": {},
   "outputs": [],
   "source": [
    "# X_test.isna().sum().sum()"
   ]
  },
  {
   "cell_type": "code",
   "execution_count": 20,
   "id": "63208a24",
   "metadata": {},
   "outputs": [
    {
     "data": {
      "text/html": [
       "<div>\n",
       "<style scoped>\n",
       "    .dataframe tbody tr th:only-of-type {\n",
       "        vertical-align: middle;\n",
       "    }\n",
       "\n",
       "    .dataframe tbody tr th {\n",
       "        vertical-align: top;\n",
       "    }\n",
       "\n",
       "    .dataframe thead th {\n",
       "        text-align: right;\n",
       "    }\n",
       "</style>\n",
       "<table border=\"1\" class=\"dataframe\">\n",
       "  <thead>\n",
       "    <tr style=\"text-align: right;\">\n",
       "      <th></th>\n",
       "      <th>h_ed</th>\n",
       "      <th>childs_per_h_ed</th>\n",
       "    </tr>\n",
       "  </thead>\n",
       "  <tbody>\n",
       "    <tr>\n",
       "      <th>0</th>\n",
       "      <td>1</td>\n",
       "      <td>4.750000</td>\n",
       "    </tr>\n",
       "    <tr>\n",
       "      <th>1</th>\n",
       "      <td>2</td>\n",
       "      <td>3.833333</td>\n",
       "    </tr>\n",
       "    <tr>\n",
       "      <th>2</th>\n",
       "      <td>3</td>\n",
       "      <td>3.629771</td>\n",
       "    </tr>\n",
       "    <tr>\n",
       "      <th>3</th>\n",
       "      <td>4</td>\n",
       "      <td>2.973684</td>\n",
       "    </tr>\n",
       "  </tbody>\n",
       "</table>\n",
       "</div>"
      ],
      "text/plain": [
       "   h_ed  childs_per_h_ed\n",
       "0     1         4.750000\n",
       "1     2         3.833333\n",
       "2     3         3.629771\n",
       "3     4         2.973684"
      ]
     },
     "execution_count": 20,
     "metadata": {},
     "output_type": "execute_result"
    }
   ],
   "source": [
    "childs_per_h_ed = (X_train.groupby('h_ed', as_index=False)\n",
    "                   .agg(childs_per_h_ed=('n_children', 'mean')))\n",
    "childs_per_h_ed"
   ]
  },
  {
   "cell_type": "code",
   "execution_count": 21,
   "id": "24a653d0",
   "metadata": {},
   "outputs": [],
   "source": [
    "X_train = X_train.merge(childs_per_h_ed, on=['h_ed'], how='left')\n",
    "X_test = X_test.merge(childs_per_h_ed, on=['h_ed'], how='left')"
   ]
  },
  {
   "cell_type": "code",
   "execution_count": 22,
   "id": "cde0022d",
   "metadata": {},
   "outputs": [],
   "source": [
    "# X_test.isna().sum().sum()"
   ]
  },
  {
   "cell_type": "markdown",
   "id": "d18e1243",
   "metadata": {},
   "source": [
    "- n_children и std_liv_idx - отрицательно коррелируют с таргетом"
   ]
  },
  {
   "cell_type": "code",
   "execution_count": 23,
   "id": "5d2779ee",
   "metadata": {},
   "outputs": [
    {
     "data": {
      "text/plain": [
       "0.28852945643479033"
      ]
     },
     "execution_count": 23,
     "metadata": {},
     "output_type": "execute_result"
    }
   ],
   "source": [
    "# лучшая комбинация из нескольких\n",
    "(1/(X_train['n_children']+1) + 1/ X_train['std_liv_idx']).corr(y_train)"
   ]
  },
  {
   "cell_type": "code",
   "execution_count": 24,
   "id": "c36f9826",
   "metadata": {},
   "outputs": [],
   "source": [
    "X_train['child+std_idx'] = 1/(X_train['n_children']+1) + 1/ X_train['std_liv_idx']\n",
    "X_test['child+std_idx'] = 1/(X_test['n_children']+1) + 1/ X_test['std_liv_idx']"
   ]
  },
  {
   "cell_type": "code",
   "execution_count": 25,
   "id": "632968c3",
   "metadata": {},
   "outputs": [],
   "source": [
    "# pd.concat([X_train, y_train], axis=1).corr()"
   ]
  },
  {
   "cell_type": "markdown",
   "id": "ef48e080",
   "metadata": {},
   "source": [
    "##### Бинарные признаки"
   ]
  },
  {
   "cell_type": "code",
   "execution_count": 26,
   "id": "3ae62419",
   "metadata": {},
   "outputs": [
    {
     "data": {
      "image/png": "[encoded data removed]",
      "text/plain": [
       "<Figure size 720x576 with 4 Axes>"
      ]
     },
     "metadata": {
      "needs_background": "light"
     },
     "output_type": "display_data"
    }
   ],
   "source": [
    "X_train[bin_columns].hist(figsize=(10, 8));"
   ]
  },
  {
   "cell_type": "markdown",
   "id": "1bd7b4c1",
   "metadata": {},
   "source": [
    "w_relig, w_working - выраженный дисбаланс, media_expos - крайне выраженный дисбаланс, "
   ]
  },
  {
   "cell_type": "markdown",
   "id": "18d86239",
   "metadata": {},
   "source": [
    "- комбинация w_ed, w_working и media_expos"
   ]
  },
  {
   "cell_type": "code",
   "execution_count": 27,
   "id": "a44a9fb0",
   "metadata": {},
   "outputs": [
    {
     "data": {
      "text/plain": [
       "-0.2506397242159103"
      ]
     },
     "execution_count": 27,
     "metadata": {},
     "output_type": "execute_result"
    }
   ],
   "source": [
    "((X_train['w_ed'] + X_train['w_working'])/(X_train['media_expos']+1)).corr(y_train)"
   ]
  },
  {
   "cell_type": "code",
   "execution_count": 28,
   "id": "d9ee4658",
   "metadata": {},
   "outputs": [],
   "source": [
    "X_train['ed_work_media'] = (X_train['w_ed'] + X_train['w_working'])/(X_train['media_expos']+1)\n",
    "X_test['ed_work_media'] = (X_test['w_ed'] + X_test['w_working'])/(X_test['media_expos']+1)"
   ]
  },
  {
   "cell_type": "code",
   "execution_count": 29,
   "id": "a2bcf318",
   "metadata": {},
   "outputs": [],
   "source": [
    "# X_test.isna().sum().sum()"
   ]
  },
  {
   "cell_type": "markdown",
   "id": "521d77a0",
   "metadata": {},
   "source": [
    "##### Простой отбор"
   ]
  },
  {
   "cell_type": "code",
   "execution_count": 30,
   "id": "fd02b9e2",
   "metadata": {},
   "outputs": [],
   "source": [
    "st_sc = StandardScaler()\n",
    "\n",
    "X_train_st = st_sc.fit_transform(X_train)\n",
    "X_test_st = st_sc.transform(X_test)"
   ]
  },
  {
   "cell_type": "code",
   "execution_count": 31,
   "id": "27d194af",
   "metadata": {},
   "outputs": [
    {
     "name": "stdout",
     "output_type": "stream",
     "text": [
      "roc_auc: 0.7797, prec: 0.6852, rec: 0.7025, f-score: 0.6937, th: 0.4776\n"
     ]
    }
   ],
   "source": [
    "lr = LogisticRegression(penalty='l1', C=0.22, solver='saga', max_iter=400,\n",
    "                        class_weight='balanced', random_state=42)\n",
    "\n",
    "lr.fit(X_train_st, y_train)\n",
    "preds_lr = lr.predict_proba(X_test_st)[:, 1]\n",
    "\n",
    "roc_auc, prec, rec, f_score, th = get_metrics(y_test, preds_lr)\n",
    "print(f'roc_auc: {roc_auc:.4f}, prec: {prec:.4f}, rec: {rec:.4f},'\n",
    "      f' f-score: {f_score:.4f}, th: {th:.4f}')"
   ]
  },
  {
   "cell_type": "code",
   "execution_count": 32,
   "id": "327de299",
   "metadata": {
    "scrolled": true
   },
   "outputs": [
    {
     "data": {
      "text/html": [
       "<div>\n",
       "<style scoped>\n",
       "    .dataframe tbody tr th:only-of-type {\n",
       "        vertical-align: middle;\n",
       "    }\n",
       "\n",
       "    .dataframe tbody tr th {\n",
       "        vertical-align: top;\n",
       "    }\n",
       "\n",
       "    .dataframe thead th {\n",
       "        text-align: right;\n",
       "    }\n",
       "</style>\n",
       "<table border=\"1\" class=\"dataframe\">\n",
       "  <thead>\n",
       "    <tr style=\"text-align: right;\">\n",
       "      <th></th>\n",
       "      <th>feat</th>\n",
       "      <th>lr</th>\n",
       "    </tr>\n",
       "  </thead>\n",
       "  <tbody>\n",
       "    <tr>\n",
       "      <th>29</th>\n",
       "      <td>child+std_idx</td>\n",
       "      <td>1.562540</td>\n",
       "    </tr>\n",
       "    <tr>\n",
       "      <th>0</th>\n",
       "      <td>w_age</td>\n",
       "      <td>0.752009</td>\n",
       "    </tr>\n",
       "    <tr>\n",
       "      <th>23</th>\n",
       "      <td>std_liv_idx_1</td>\n",
       "      <td>-0.503158</td>\n",
       "    </tr>\n",
       "    <tr>\n",
       "      <th>1</th>\n",
       "      <td>w_ed</td>\n",
       "      <td>-0.428089</td>\n",
       "    </tr>\n",
       "    <tr>\n",
       "      <th>7</th>\n",
       "      <td>std_liv_idx</td>\n",
       "      <td>0.415569</td>\n",
       "    </tr>\n",
       "    <tr>\n",
       "      <th>14</th>\n",
       "      <td>w_ed_4</td>\n",
       "      <td>-0.173761</td>\n",
       "    </tr>\n",
       "    <tr>\n",
       "      <th>4</th>\n",
       "      <td>w_relig</td>\n",
       "      <td>0.138524</td>\n",
       "    </tr>\n",
       "    <tr>\n",
       "      <th>6</th>\n",
       "      <td>h_occupation</td>\n",
       "      <td>-0.102687</td>\n",
       "    </tr>\n",
       "    <tr>\n",
       "      <th>25</th>\n",
       "      <td>std_liv_idx_3</td>\n",
       "      <td>0.087329</td>\n",
       "    </tr>\n",
       "    <tr>\n",
       "      <th>8</th>\n",
       "      <td>media_expos</td>\n",
       "      <td>0.069382</td>\n",
       "    </tr>\n",
       "    <tr>\n",
       "      <th>10</th>\n",
       "      <td>n_children_sqrt</td>\n",
       "      <td>-0.054161</td>\n",
       "    </tr>\n",
       "    <tr>\n",
       "      <th>22</th>\n",
       "      <td>h_occupation_4</td>\n",
       "      <td>-0.049616</td>\n",
       "    </tr>\n",
       "    <tr>\n",
       "      <th>12</th>\n",
       "      <td>w_ed_2</td>\n",
       "      <td>0.043173</td>\n",
       "    </tr>\n",
       "    <tr>\n",
       "      <th>20</th>\n",
       "      <td>h_occupation_2</td>\n",
       "      <td>0.037749</td>\n",
       "    </tr>\n",
       "    <tr>\n",
       "      <th>15</th>\n",
       "      <td>h_ed_1</td>\n",
       "      <td>0.033554</td>\n",
       "    </tr>\n",
       "    <tr>\n",
       "      <th>17</th>\n",
       "      <td>h_ed_3</td>\n",
       "      <td>-0.029939</td>\n",
       "    </tr>\n",
       "    <tr>\n",
       "      <th>5</th>\n",
       "      <td>w_working</td>\n",
       "      <td>0.010056</td>\n",
       "    </tr>\n",
       "    <tr>\n",
       "      <th>16</th>\n",
       "      <td>h_ed_2</td>\n",
       "      <td>0.002173</td>\n",
       "    </tr>\n",
       "    <tr>\n",
       "      <th>13</th>\n",
       "      <td>w_ed_3</td>\n",
       "      <td>0.000000</td>\n",
       "    </tr>\n",
       "    <tr>\n",
       "      <th>18</th>\n",
       "      <td>h_ed_4</td>\n",
       "      <td>0.000000</td>\n",
       "    </tr>\n",
       "    <tr>\n",
       "      <th>19</th>\n",
       "      <td>h_occupation_1</td>\n",
       "      <td>0.000000</td>\n",
       "    </tr>\n",
       "    <tr>\n",
       "      <th>11</th>\n",
       "      <td>w_ed_1</td>\n",
       "      <td>0.000000</td>\n",
       "    </tr>\n",
       "    <tr>\n",
       "      <th>21</th>\n",
       "      <td>h_occupation_3</td>\n",
       "      <td>0.000000</td>\n",
       "    </tr>\n",
       "    <tr>\n",
       "      <th>9</th>\n",
       "      <td>w_age_log</td>\n",
       "      <td>0.000000</td>\n",
       "    </tr>\n",
       "    <tr>\n",
       "      <th>24</th>\n",
       "      <td>std_liv_idx_2</td>\n",
       "      <td>0.000000</td>\n",
       "    </tr>\n",
       "    <tr>\n",
       "      <th>3</th>\n",
       "      <td>n_children</td>\n",
       "      <td>0.000000</td>\n",
       "    </tr>\n",
       "    <tr>\n",
       "      <th>26</th>\n",
       "      <td>std_liv_idx_4</td>\n",
       "      <td>0.000000</td>\n",
       "    </tr>\n",
       "    <tr>\n",
       "      <th>27</th>\n",
       "      <td>childs_per_w_ed</td>\n",
       "      <td>0.000000</td>\n",
       "    </tr>\n",
       "    <tr>\n",
       "      <th>28</th>\n",
       "      <td>childs_per_h_ed</td>\n",
       "      <td>0.000000</td>\n",
       "    </tr>\n",
       "    <tr>\n",
       "      <th>2</th>\n",
       "      <td>h_ed</td>\n",
       "      <td>0.000000</td>\n",
       "    </tr>\n",
       "    <tr>\n",
       "      <th>30</th>\n",
       "      <td>ed_work_media</td>\n",
       "      <td>0.000000</td>\n",
       "    </tr>\n",
       "  </tbody>\n",
       "</table>\n",
       "</div>"
      ],
      "text/plain": [
       "               feat        lr\n",
       "29    child+std_idx  1.562540\n",
       "0             w_age  0.752009\n",
       "23    std_liv_idx_1 -0.503158\n",
       "1              w_ed -0.428089\n",
       "7       std_liv_idx  0.415569\n",
       "14           w_ed_4 -0.173761\n",
       "4           w_relig  0.138524\n",
       "6      h_occupation -0.102687\n",
       "25    std_liv_idx_3  0.087329\n",
       "8       media_expos  0.069382\n",
       "10  n_children_sqrt -0.054161\n",
       "22   h_occupation_4 -0.049616\n",
       "12           w_ed_2  0.043173\n",
       "20   h_occupation_2  0.037749\n",
       "15           h_ed_1  0.033554\n",
       "17           h_ed_3 -0.029939\n",
       "5         w_working  0.010056\n",
       "16           h_ed_2  0.002173\n",
       "13           w_ed_3  0.000000\n",
       "18           h_ed_4  0.000000\n",
       "19   h_occupation_1  0.000000\n",
       "11           w_ed_1  0.000000\n",
       "21   h_occupation_3  0.000000\n",
       "9         w_age_log  0.000000\n",
       "24    std_liv_idx_2  0.000000\n",
       "3        n_children  0.000000\n",
       "26    std_liv_idx_4  0.000000\n",
       "27  childs_per_w_ed  0.000000\n",
       "28  childs_per_h_ed  0.000000\n",
       "2              h_ed  0.000000\n",
       "30    ed_work_media  0.000000"
      ]
     },
     "execution_count": 32,
     "metadata": {},
     "output_type": "execute_result"
    }
   ],
   "source": [
    "feat_imp = pd.DataFrame({'feat': X_train.columns, \n",
    "              'lr': lr.coef_[0]})\n",
    "feat_imp.sort_values('lr', key=lambda x: abs(x), ascending=False)"
   ]
  },
  {
   "cell_type": "code",
   "execution_count": 33,
   "id": "503855cc",
   "metadata": {},
   "outputs": [
    {
     "data": {
      "text/plain": [
       "array(['w_age', 'w_ed', 'w_relig', 'w_working', 'h_occupation',\n",
       "       'std_liv_idx', 'media_expos', 'n_children_sqrt', 'w_ed_2',\n",
       "       'w_ed_4', 'h_ed_1', 'h_ed_2', 'h_ed_3', 'h_occupation_2',\n",
       "       'h_occupation_4', 'std_liv_idx_1', 'std_liv_idx_3',\n",
       "       'child+std_idx'], dtype=object)"
      ]
     },
     "execution_count": 33,
     "metadata": {},
     "output_type": "execute_result"
    }
   ],
   "source": [
    "features = feat_imp.loc[abs(feat_imp['lr']) > 0, 'feat']\n",
    "features.values"
   ]
  },
  {
   "cell_type": "code",
   "execution_count": 34,
   "id": "80eed871",
   "metadata": {},
   "outputs": [],
   "source": [
    "# features = ['w_age', 'w_ed', 'w_relig', 'w_working', 'h_occupation', 'std_liv_idx', \n",
    "#             'media_expos', 'n_children_sqrt', 'w_ed_2', 'w_ed_4', 'h_ed_1', 'h_ed_2', 'h_ed_3', \n",
    "#             'h_occupation_2', 'h_occupation_4', 'std_liv_idx_1', 'std_liv_idx_3', 'child+std_idx']"
   ]
  },
  {
   "cell_type": "markdown",
   "id": "bf96fe23",
   "metadata": {},
   "source": [
    "##### Pipeline"
   ]
  },
  {
   "cell_type": "code",
   "execution_count": 35,
   "id": "da0ddb3c",
   "metadata": {},
   "outputs": [],
   "source": [
    "class FeatureSelector(BaseEstimator, TransformerMixin):\n",
    "    def __init__(self, column):\n",
    "        self.column = column\n",
    "\n",
    "    def fit(self, X, y=None):\n",
    "        return self\n",
    "\n",
    "    def transform(self, X, y=None):\n",
    "        return X[self.column]\n",
    "    \n",
    "    \n",
    "class NumberSelector(BaseEstimator, TransformerMixin):\n",
    "    \"\"\"\n",
    "    Transformer to select a single column from the data frame to perform additional transformations on\n",
    "    Use on numeric columns in the data\n",
    "    \"\"\"\n",
    "    def __init__(self, key):\n",
    "        self.key = key\n",
    "\n",
    "    def fit(self, X, y=None):\n",
    "        return self\n",
    "\n",
    "    def transform(self, X):\n",
    "        return X[[self.key]]\n",
    "     \n",
    "    \n",
    "class OHEEncoder(BaseEstimator, TransformerMixin):\n",
    "    def __init__(self, key):\n",
    "        self.key = key\n",
    "        self.columns = []\n",
    "\n",
    "    def fit(self, X, y=None):\n",
    "        self.columns = [col for col in pd.get_dummies(X, prefix=self.key).columns]\n",
    "        return self\n",
    "\n",
    "    def transform(self, X):\n",
    "        X = pd.get_dummies(X, prefix=self.key)\n",
    "        test_columns = [col for col in X.columns]\n",
    "        for col_ in self.columns:\n",
    "            if col_ not in test_columns:\n",
    "                X[col_] = 0\n",
    "        return X[self.columns]\n"
   ]
  },
  {
   "cell_type": "code",
   "execution_count": 36,
   "id": "783919db",
   "metadata": {},
   "outputs": [],
   "source": [
    "all_transformers = []\n",
    "# без изменений\n",
    "base_cols = ['w_age', 'w_ed', 'w_relig', 'w_working', 'h_occupation', 'std_liv_idx', \n",
    "            'media_expos']\n",
    "for base_col in base_cols:\n",
    "    base_transformer = Pipeline([\n",
    "                ('selector', NumberSelector(key=base_col)),\n",
    "            ])\n",
    "    all_transformers.append((base_col, base_transformer))\n",
    "\n",
    "# sqrt - n_children_sqrt\n",
    "sqrt_transf = Pipeline([\n",
    "                ('selector', NumberSelector(key='n_children')),\n",
    "                ('sqrt_transformer', FunctionTransformer(np.sqrt))\n",
    "            ])\n",
    "all_transformers.append(('n_children_sqrt', sqrt_transf))\n",
    "\n",
    "# onehot\n",
    "onehot_cols = ['w_ed', 'h_ed', 'h_occupation', 'std_liv_idx']\n",
    "for cat_col in onehot_cols:\n",
    "    cat_transformer = Pipeline([\n",
    "                ('selector', FeatureSelector(column=cat_col)),\n",
    "                ('ohe', OHEEncoder(key=cat_col))\n",
    "            ])\n",
    "    all_transformers.append((f'{cat_col}_onehot', cat_transformer))\n",
    "    \n",
    "# child+std_idx\n",
    "child_std_transformer = Pipeline([\n",
    "    ('selector', FeatureSelector(column=['n_children', 'std_liv_idx'])),\n",
    "    ('child_std_transformer', \n",
    "         FunctionTransformer(lambda x: pd.DataFrame((1/(x.iloc[:, 0]+1) + 1/x.iloc[:, 1]))))\n",
    "])\n",
    "all_transformers.append(('child+std_idx', child_std_transformer))\n",
    "\n",
    "feats = FeatureUnion(all_transformers)"
   ]
  },
  {
   "cell_type": "code",
   "execution_count": 37,
   "id": "e0f2cfe7",
   "metadata": {},
   "outputs": [],
   "source": [
    "# feats_all = ['w_age', 'w_ed', 'w_relig', 'w_working', 'h_occupation', 'std_liv_idx', \n",
    "#              'media_expos', 'n_children_sqrt', 'w_ed_1', 'w_ed_2', 'w_ed_3', 'w_ed_4', \n",
    "#              'h_ed_1', 'h_ed_2', 'h_ed_3', 'h_ed_4', 'h_occupation_1', 'h_occupation_2',\n",
    "#              'h_occupation_3', 'h_occupation_4', 'std_liv_idx_1', 'std_liv_idx_2',\n",
    "#              'std_liv_idx_3', 'std_liv_idx_4', 'child+std_idx']"
   ]
  },
  {
   "cell_type": "markdown",
   "id": "e2428f36",
   "metadata": {},
   "source": [
    "#### 3. обучить любой классификатор (какой вам нравится)"
   ]
  },
  {
   "cell_type": "code",
   "execution_count": 38,
   "id": "12ab5f27",
   "metadata": {},
   "outputs": [],
   "source": [
    "X_train, X_test, y_train, y_test = train_test_split(data.drop(['contr_mtd', 'target'], axis=1), \n",
    "                                                    data['target'], random_state=0)"
   ]
  },
  {
   "cell_type": "code",
   "execution_count": 39,
   "id": "912495c2",
   "metadata": {},
   "outputs": [],
   "source": [
    "pipeline_abc = Pipeline([\n",
    "    ('features',feats),\n",
    "    ('clf', AdaBoostClassifier(random_state=42)),\n",
    "])"
   ]
  },
  {
   "cell_type": "code",
   "execution_count": 40,
   "id": "fa120f5d",
   "metadata": {},
   "outputs": [
    {
     "data": {
      "text/plain": [
       "{'clf__learning_rate': 0.5777777777777777, 'clf__n_estimators': 40}"
      ]
     },
     "execution_count": 40,
     "metadata": {},
     "output_type": "execute_result"
    }
   ],
   "source": [
    "params = {'clf__n_estimators': np.arange(40, 60, 5),\n",
    "          'clf__learning_rate': np.linspace(0.5, 1.2, num=10)}\n",
    "\n",
    "\n",
    "grid = GridSearchCV(pipeline_abc, \n",
    "                    param_grid=params, \n",
    "                    scoring='roc_auc', \n",
    "                    n_jobs=-1, \n",
    "                    cv=5, \n",
    "                    refit=False)\n",
    "\n",
    "search = grid.fit(X_train, y_train)\n",
    "best_params = search.best_params_\n",
    "best_params"
   ]
  },
  {
   "cell_type": "markdown",
   "id": "f7164753",
   "metadata": {},
   "source": [
    "Итоговый pipeline"
   ]
  },
  {
   "cell_type": "code",
   "execution_count": 41,
   "id": "df656da3",
   "metadata": {},
   "outputs": [
    {
     "name": "stdout",
     "output_type": "stream",
     "text": [
      "roc_auc: 0.7965, prec: 0.6629, rec: 0.7468, f-score: 0.7024, th: 0.4947\n"
     ]
    }
   ],
   "source": [
    "pipeline_abc.set_params(**best_params);\n",
    "\n",
    "pipeline_abc.fit(X_train, y_train)\n",
    "\n",
    "preds_abc = pipeline_abc.predict_proba(X_test)[:, 1]\n",
    "roc_auc, prec, rec, f_score, th = get_metrics(y_test, preds_abc)\n",
    "print(f'roc_auc: {roc_auc:.4f}, prec: {prec:.4f}, rec: {rec:.4f},'\n",
    "      f' f-score: {f_score:.4f}, th: {th:.4f}')"
   ]
  },
  {
   "cell_type": "code",
   "execution_count": 42,
   "id": "02178574",
   "metadata": {},
   "outputs": [
    {
     "data": {
      "text/html": [
       "<div>\n",
       "<style scoped>\n",
       "    .dataframe tbody tr th:only-of-type {\n",
       "        vertical-align: middle;\n",
       "    }\n",
       "\n",
       "    .dataframe tbody tr th {\n",
       "        vertical-align: top;\n",
       "    }\n",
       "\n",
       "    .dataframe thead th {\n",
       "        text-align: right;\n",
       "    }\n",
       "</style>\n",
       "<table border=\"1\" class=\"dataframe\">\n",
       "  <thead>\n",
       "    <tr style=\"text-align: right;\">\n",
       "      <th></th>\n",
       "      <th>roc_auc</th>\n",
       "      <th>precision</th>\n",
       "      <th>recall</th>\n",
       "      <th>f-score</th>\n",
       "    </tr>\n",
       "  </thead>\n",
       "  <tbody>\n",
       "    <tr>\n",
       "      <th>SL</th>\n",
       "      <td>0.796463</td>\n",
       "      <td>0.662921</td>\n",
       "      <td>0.746835</td>\n",
       "      <td>0.702381</td>\n",
       "    </tr>\n",
       "  </tbody>\n",
       "</table>\n",
       "</div>"
      ],
      "text/plain": [
       "     roc_auc  precision    recall   f-score\n",
       "SL  0.796463   0.662921  0.746835  0.702381"
      ]
     },
     "execution_count": 42,
     "metadata": {},
     "output_type": "execute_result"
    }
   ],
   "source": [
    "metrics = pd.DataFrame({'roc_auc': [], \n",
    "                        'precision': [],\n",
    "                        'recall': [],\n",
    "                        'f-score': []})\n",
    "\n",
    "metrics.loc['SL'] = [roc_auc, prec, rec, f_score]\n",
    "metrics"
   ]
  },
  {
   "cell_type": "markdown",
   "id": "8cfd791b",
   "metadata": {},
   "source": [
    "#### 4. далее разделить ваш набор данных на два множества: P (positives) и U (unlabeled). Причем брать нужно не все положительные (класс 1) примеры, а только лишь часть"
   ]
  },
  {
   "cell_type": "code",
   "execution_count": 43,
   "id": "448c157f",
   "metadata": {},
   "outputs": [],
   "source": [
    "np.random.seed(42)"
   ]
  },
  {
   "cell_type": "code",
   "execution_count": 44,
   "id": "87b19e32",
   "metadata": {},
   "outputs": [],
   "source": [
    "rns_data = X_train.copy()\n",
    "rns_data['target'] = y_train\n",
    "rns_data.reset_index(drop=True, inplace=True)\n",
    "\n",
    "p_idx = np.where(rns_data['target'].values == 1)[0]\n",
    "np.random.shuffle(p_idx)"
   ]
  },
  {
   "cell_type": "code",
   "execution_count": 45,
   "id": "ee1c8525",
   "metadata": {},
   "outputs": [
    {
     "data": {
      "text/plain": [
       "(236, 471)"
      ]
     },
     "execution_count": 45,
     "metadata": {},
     "output_type": "execute_result"
    }
   ],
   "source": [
    "perc = 0.5\n",
    "p_sample_len = int(np.ceil(perc * len(p_idx)))\n",
    "p_sample_len, len(p_idx)"
   ]
  },
  {
   "cell_type": "code",
   "execution_count": 46,
   "id": "78554f54",
   "metadata": {},
   "outputs": [
    {
     "data": {
      "text/plain": [
       "array([ 142,  174,   85, 1041,  998,  578,  517,   25,  858,  169],\n",
       "      dtype=int64)"
      ]
     },
     "execution_count": 46,
     "metadata": {},
     "output_type": "execute_result"
    }
   ],
   "source": [
    "p_sample = p_idx[:p_sample_len]\n",
    "p_sample[:10]"
   ]
  },
  {
   "cell_type": "code",
   "execution_count": 47,
   "id": "f008f53b",
   "metadata": {},
   "outputs": [
    {
     "data": {
      "text/plain": [
       "0    868\n",
       "1    236\n",
       "Name: PU_label, dtype: int64"
      ]
     },
     "execution_count": 47,
     "metadata": {},
     "output_type": "execute_result"
    }
   ],
   "source": [
    "rns_data['PU_label'] = 0\n",
    "rns_data.loc[p_sample, 'PU_label'] = 1\n",
    "rns_data['PU_label'].value_counts()"
   ]
  },
  {
   "cell_type": "code",
   "execution_count": 48,
   "id": "3c867597",
   "metadata": {},
   "outputs": [
    {
     "data": {
      "text/html": [
       "<div>\n",
       "<style scoped>\n",
       "    .dataframe tbody tr th:only-of-type {\n",
       "        vertical-align: middle;\n",
       "    }\n",
       "\n",
       "    .dataframe tbody tr th {\n",
       "        vertical-align: top;\n",
       "    }\n",
       "\n",
       "    .dataframe thead th {\n",
       "        text-align: right;\n",
       "    }\n",
       "</style>\n",
       "<table border=\"1\" class=\"dataframe\">\n",
       "  <thead>\n",
       "    <tr style=\"text-align: right;\">\n",
       "      <th></th>\n",
       "      <th>w_age</th>\n",
       "      <th>w_ed</th>\n",
       "      <th>h_ed</th>\n",
       "      <th>n_children</th>\n",
       "      <th>w_relig</th>\n",
       "      <th>w_working</th>\n",
       "      <th>h_occupation</th>\n",
       "      <th>std_liv_idx</th>\n",
       "      <th>media_expos</th>\n",
       "      <th>target</th>\n",
       "      <th>PU_label</th>\n",
       "    </tr>\n",
       "  </thead>\n",
       "  <tbody>\n",
       "    <tr>\n",
       "      <th>0</th>\n",
       "      <td>26</td>\n",
       "      <td>2</td>\n",
       "      <td>2</td>\n",
       "      <td>3</td>\n",
       "      <td>1</td>\n",
       "      <td>1</td>\n",
       "      <td>2</td>\n",
       "      <td>1</td>\n",
       "      <td>0</td>\n",
       "      <td>1</td>\n",
       "      <td>1</td>\n",
       "    </tr>\n",
       "    <tr>\n",
       "      <th>1</th>\n",
       "      <td>46</td>\n",
       "      <td>3</td>\n",
       "      <td>4</td>\n",
       "      <td>4</td>\n",
       "      <td>1</td>\n",
       "      <td>0</td>\n",
       "      <td>3</td>\n",
       "      <td>4</td>\n",
       "      <td>0</td>\n",
       "      <td>0</td>\n",
       "      <td>0</td>\n",
       "    </tr>\n",
       "    <tr>\n",
       "      <th>2</th>\n",
       "      <td>47</td>\n",
       "      <td>4</td>\n",
       "      <td>4</td>\n",
       "      <td>8</td>\n",
       "      <td>1</td>\n",
       "      <td>1</td>\n",
       "      <td>1</td>\n",
       "      <td>4</td>\n",
       "      <td>0</td>\n",
       "      <td>0</td>\n",
       "      <td>0</td>\n",
       "    </tr>\n",
       "    <tr>\n",
       "      <th>3</th>\n",
       "      <td>28</td>\n",
       "      <td>4</td>\n",
       "      <td>4</td>\n",
       "      <td>1</td>\n",
       "      <td>0</td>\n",
       "      <td>0</td>\n",
       "      <td>2</td>\n",
       "      <td>4</td>\n",
       "      <td>0</td>\n",
       "      <td>0</td>\n",
       "      <td>0</td>\n",
       "    </tr>\n",
       "    <tr>\n",
       "      <th>4</th>\n",
       "      <td>28</td>\n",
       "      <td>3</td>\n",
       "      <td>4</td>\n",
       "      <td>2</td>\n",
       "      <td>1</td>\n",
       "      <td>1</td>\n",
       "      <td>2</td>\n",
       "      <td>3</td>\n",
       "      <td>0</td>\n",
       "      <td>0</td>\n",
       "      <td>0</td>\n",
       "    </tr>\n",
       "  </tbody>\n",
       "</table>\n",
       "</div>"
      ],
      "text/plain": [
       "   w_age  w_ed  h_ed  n_children  w_relig  w_working  h_occupation  \\\n",
       "0     26     2     2           3        1          1             2   \n",
       "1     46     3     4           4        1          0             3   \n",
       "2     47     4     4           8        1          1             1   \n",
       "3     28     4     4           1        0          0             2   \n",
       "4     28     3     4           2        1          1             2   \n",
       "\n",
       "   std_liv_idx  media_expos  target  PU_label  \n",
       "0            1            0       1         1  \n",
       "1            4            0       0         0  \n",
       "2            4            0       0         0  \n",
       "3            4            0       0         0  \n",
       "4            3            0       0         0  "
      ]
     },
     "execution_count": 48,
     "metadata": {},
     "output_type": "execute_result"
    }
   ],
   "source": [
    "rns_data.head()"
   ]
  },
  {
   "cell_type": "markdown",
   "id": "0995074f",
   "metadata": {},
   "source": [
    "#### 5. применить random negative sampling для построения классификатора в новых условиях"
   ]
  },
  {
   "cell_type": "code",
   "execution_count": 49,
   "id": "00c59959",
   "metadata": {},
   "outputs": [
    {
     "name": "stdout",
     "output_type": "stream",
     "text": [
      "(236, 11) (236, 11)\n"
     ]
    }
   ],
   "source": [
    "rns_data = rns_data.sample(frac=1)\n",
    "\n",
    "data_N = rns_data[rns_data['PU_label'] == 0]\n",
    "data_P = rns_data[rns_data['PU_label'] == 1]\n",
    "\n",
    "neg_sample = data_N[:data_P.shape[0]]\n",
    "pos_sample = data_P.copy()\n",
    "\n",
    "print(neg_sample.shape, pos_sample.shape)\n",
    "sample_train = pd.concat([neg_sample, pos_sample]).sample(frac=1)\n",
    "target_train = sample_train['PU_label']"
   ]
  },
  {
   "cell_type": "code",
   "execution_count": 50,
   "id": "2da00afe",
   "metadata": {},
   "outputs": [
    {
     "data": {
      "text/plain": [
       "((472, 11), (472,))"
      ]
     },
     "execution_count": 50,
     "metadata": {},
     "output_type": "execute_result"
    }
   ],
   "source": [
    "sample_train.shape, target_train.shape"
   ]
  },
  {
   "cell_type": "code",
   "execution_count": 51,
   "id": "a52cefba",
   "metadata": {},
   "outputs": [
    {
     "name": "stdout",
     "output_type": "stream",
     "text": [
      "roc_auc: 0.7766, prec: 0.5685, rec: 0.8671, f-score: 0.6867, th: 0.4957\n"
     ]
    }
   ],
   "source": [
    "pipeline_abc.fit(sample_train, target_train)\n",
    "\n",
    "preds_abc = pipeline_abc.predict_proba(X_test)[:, 1]\n",
    "roc_auc, prec, rec, f_score, th = get_metrics(y_test, preds_abc)\n",
    "print(f'roc_auc: {roc_auc:.4f}, prec: {prec:.4f}, rec: {rec:.4f},'\n",
    "      f' f-score: {f_score:.4f}, th: {th:.4f}')"
   ]
  },
  {
   "cell_type": "markdown",
   "id": "4f24ee67",
   "metadata": {},
   "source": [
    "#### 6. сравнить качество с решением из пункта 4 (построить отчет - таблицу метрик)"
   ]
  },
  {
   "cell_type": "code",
   "execution_count": 52,
   "id": "939f8397",
   "metadata": {},
   "outputs": [
    {
     "data": {
      "text/html": [
       "<div>\n",
       "<style scoped>\n",
       "    .dataframe tbody tr th:only-of-type {\n",
       "        vertical-align: middle;\n",
       "    }\n",
       "\n",
       "    .dataframe tbody tr th {\n",
       "        vertical-align: top;\n",
       "    }\n",
       "\n",
       "    .dataframe thead th {\n",
       "        text-align: right;\n",
       "    }\n",
       "</style>\n",
       "<table border=\"1\" class=\"dataframe\">\n",
       "  <thead>\n",
       "    <tr style=\"text-align: right;\">\n",
       "      <th></th>\n",
       "      <th>roc_auc</th>\n",
       "      <th>precision</th>\n",
       "      <th>recall</th>\n",
       "      <th>f-score</th>\n",
       "    </tr>\n",
       "  </thead>\n",
       "  <tbody>\n",
       "    <tr>\n",
       "      <th>SL</th>\n",
       "      <td>0.796463</td>\n",
       "      <td>0.662921</td>\n",
       "      <td>0.746835</td>\n",
       "      <td>0.702381</td>\n",
       "    </tr>\n",
       "    <tr>\n",
       "      <th>PU, perc=0.5</th>\n",
       "      <td>0.776606</td>\n",
       "      <td>0.568465</td>\n",
       "      <td>0.867089</td>\n",
       "      <td>0.686717</td>\n",
       "    </tr>\n",
       "  </tbody>\n",
       "</table>\n",
       "</div>"
      ],
      "text/plain": [
       "               roc_auc  precision    recall   f-score\n",
       "SL            0.796463   0.662921  0.746835  0.702381\n",
       "PU, perc=0.5  0.776606   0.568465  0.867089  0.686717"
      ]
     },
     "execution_count": 52,
     "metadata": {},
     "output_type": "execute_result"
    }
   ],
   "source": [
    "metrics.loc['PU, perc=0.5'] = [roc_auc, prec, rec, f_score]\n",
    "metrics"
   ]
  },
  {
   "cell_type": "markdown",
   "id": "fead2bbb",
   "metadata": {},
   "source": [
    "У обучения на полностью размеченных данных - чуть лучше метрики."
   ]
  },
  {
   "cell_type": "markdown",
   "id": "1919be44",
   "metadata": {},
   "source": [
    "#### 7. поэкспериментировать с долей P на шаге 5 (как будет меняться качество модели при уменьшении/увеличении размера P)"
   ]
  },
  {
   "cell_type": "code",
   "execution_count": 53,
   "id": "6850d24f",
   "metadata": {},
   "outputs": [],
   "source": [
    "for perc in [0.9, 0.75, 0.25, 0.1]:\n",
    "    p_sample_len = int(np.ceil(perc * len(p_idx)))\n",
    "    p_sample = p_idx[:p_sample_len]\n",
    "    rns_data['PU_label'] = 0\n",
    "    rns_data.loc[p_sample, 'PU_label'] = 1\n",
    "    rns_data = rns_data.sample(frac=1)\n",
    "\n",
    "    data_N = rns_data[rns_data['PU_label'] == 0]\n",
    "    data_P = rns_data[rns_data['PU_label'] == 1]\n",
    "\n",
    "    neg_sample = data_N[:data_P.shape[0]]\n",
    "    pos_sample = data_P.copy()\n",
    "\n",
    "    sample_train = pd.concat([neg_sample, pos_sample]).sample(frac=1)\n",
    "    target_train = sample_train['PU_label']\n",
    "    \n",
    "    pipeline_abc.fit(sample_train, target_train)\n",
    "\n",
    "    preds_abc = pipeline_abc.predict_proba(X_test)[:, 1]\n",
    "    roc_auc, prec, rec, f_score, th = get_metrics(y_test, preds_abc)\n",
    "    metrics.loc[f'PU, perc={perc}'] = [roc_auc, prec, rec, f_score]"
   ]
  },
  {
   "cell_type": "code",
   "execution_count": 54,
   "id": "d6ec4c23",
   "metadata": {},
   "outputs": [
    {
     "data": {
      "text/html": [
       "<div>\n",
       "<style scoped>\n",
       "    .dataframe tbody tr th:only-of-type {\n",
       "        vertical-align: middle;\n",
       "    }\n",
       "\n",
       "    .dataframe tbody tr th {\n",
       "        vertical-align: top;\n",
       "    }\n",
       "\n",
       "    .dataframe thead th {\n",
       "        text-align: right;\n",
       "    }\n",
       "</style>\n",
       "<table border=\"1\" class=\"dataframe\">\n",
       "  <thead>\n",
       "    <tr style=\"text-align: right;\">\n",
       "      <th></th>\n",
       "      <th>roc_auc</th>\n",
       "      <th>precision</th>\n",
       "      <th>recall</th>\n",
       "      <th>f-score</th>\n",
       "    </tr>\n",
       "  </thead>\n",
       "  <tbody>\n",
       "    <tr>\n",
       "      <th>SL</th>\n",
       "      <td>0.796463</td>\n",
       "      <td>0.662921</td>\n",
       "      <td>0.746835</td>\n",
       "      <td>0.702381</td>\n",
       "    </tr>\n",
       "    <tr>\n",
       "      <th>PU, perc=0.5</th>\n",
       "      <td>0.776606</td>\n",
       "      <td>0.568465</td>\n",
       "      <td>0.867089</td>\n",
       "      <td>0.686717</td>\n",
       "    </tr>\n",
       "    <tr>\n",
       "      <th>PU, perc=0.9</th>\n",
       "      <td>0.761008</td>\n",
       "      <td>0.546559</td>\n",
       "      <td>0.854430</td>\n",
       "      <td>0.666667</td>\n",
       "    </tr>\n",
       "    <tr>\n",
       "      <th>PU, perc=0.75</th>\n",
       "      <td>0.785215</td>\n",
       "      <td>0.626316</td>\n",
       "      <td>0.753165</td>\n",
       "      <td>0.683908</td>\n",
       "    </tr>\n",
       "    <tr>\n",
       "      <th>PU, perc=0.25</th>\n",
       "      <td>0.726228</td>\n",
       "      <td>0.571429</td>\n",
       "      <td>0.835443</td>\n",
       "      <td>0.678663</td>\n",
       "    </tr>\n",
       "    <tr>\n",
       "      <th>PU, perc=0.1</th>\n",
       "      <td>0.697357</td>\n",
       "      <td>0.545872</td>\n",
       "      <td>0.753165</td>\n",
       "      <td>0.632979</td>\n",
       "    </tr>\n",
       "  </tbody>\n",
       "</table>\n",
       "</div>"
      ],
      "text/plain": [
       "                roc_auc  precision    recall   f-score\n",
       "SL             0.796463   0.662921  0.746835  0.702381\n",
       "PU, perc=0.5   0.776606   0.568465  0.867089  0.686717\n",
       "PU, perc=0.9   0.761008   0.546559  0.854430  0.666667\n",
       "PU, perc=0.75  0.785215   0.626316  0.753165  0.683908\n",
       "PU, perc=0.25  0.726228   0.571429  0.835443  0.678663\n",
       "PU, perc=0.1   0.697357   0.545872  0.753165  0.632979"
      ]
     },
     "execution_count": 54,
     "metadata": {},
     "output_type": "execute_result"
    }
   ],
   "source": [
    "metrics"
   ]
  },
  {
   "cell_type": "markdown",
   "id": "811aa5ea",
   "metadata": {},
   "source": [
    "С уменьшением доли размеченных P-экземпляров метрики довольно плавно снижаются. Интересно, что при perc = 0.9 модель выдаёт несколько худшие метрики. Возможно, это связано с попаданием неудачных экземпляров (выбросов) в выборку при разбиении и перемешивании (при замене np.random.seed(42) метрики ведут себя более предсказуемым образом)."
   ]
  }
 ],
 "metadata": {
  "kernelspec": {
   "display_name": "Python 3 (ipykernel)",
   "language": "python",
   "name": "python3"
  },
  "language_info": {
   "codemirror_mode": {
    "name": "ipython",
    "version": 3
   },
   "file_extension": ".py",
   "mimetype": "text/x-python",
   "name": "python",
   "nbconvert_exporter": "python",
   "pygments_lexer": "ipython3",
   "version": "3.8.13"
  }
 },
 "nbformat": 4,
 "nbformat_minor": 5
}
