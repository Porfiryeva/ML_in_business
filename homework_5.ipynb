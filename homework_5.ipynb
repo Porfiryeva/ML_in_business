{
 "cells": [
  {
   "cell_type": "code",
   "execution_count": 1,
   "id": "9ad7cfdf",
   "metadata": {},
   "outputs": [],
   "source": [
    "import pandas as pd\n",
    "import numpy as np\n",
    "import matplotlib.pyplot as plt\n",
    "import warnings\n",
    "import xgboost as xgb\n",
    "\n",
    "from sklearn.pipeline import Pipeline, FeatureUnion\n",
    "from sklearn.base import BaseEstimator, TransformerMixin\n",
    "from sklearn.linear_model import LogisticRegression\n",
    "from sklearn.ensemble import GradientBoostingClassifier\n",
    "from sklearn.model_selection import train_test_split, GridSearchCV\n",
    "from sklearn.preprocessing import StandardScaler\n",
    "from sklearn.metrics import (f1_score, \n",
    "                             fbeta_score,\n",
    "                             roc_auc_score, \n",
    "                             precision_score, \n",
    "                             precision_recall_curve, \n",
    "                             confusion_matrix,\n",
    "                             make_scorer\n",
    "                            )\n",
    "\n",
    "%matplotlib inline\n",
    "warnings.filterwarnings('ignore')"
   ]
  },
  {
   "cell_type": "code",
   "execution_count": 2,
   "id": "7b279917",
   "metadata": {},
   "outputs": [],
   "source": [
    "class FeatureSelector(BaseEstimator, TransformerMixin):\n",
    "    def __init__(self, column):\n",
    "        self.column = column\n",
    "\n",
    "    def fit(self, X, y=None):\n",
    "        return self\n",
    "\n",
    "    def transform(self, X, y=None):\n",
    "        return X[self.column]\n",
    "    \n",
    "    \n",
    "class NumberSelector(BaseEstimator, TransformerMixin):\n",
    "    \"\"\"\n",
    "    Transformer to select a single column from the data frame to perform additional transformations on\n",
    "    Use on numeric columns in the data\n",
    "    \"\"\"\n",
    "    def __init__(self, key):\n",
    "        self.key = key\n",
    "\n",
    "    def fit(self, X, y=None):\n",
    "        return self\n",
    "\n",
    "    def transform(self, X):\n",
    "        return X[[self.key]]\n",
    "     \n",
    "    \n",
    "class OHEEncoder(BaseEstimator, TransformerMixin):\n",
    "    def __init__(self, key):\n",
    "        self.key = key\n",
    "        self.columns = []\n",
    "\n",
    "    def fit(self, X, y=None):\n",
    "        self.columns = [col for col in pd.get_dummies(X, prefix=self.key).columns]\n",
    "        return self\n",
    "\n",
    "    def transform(self, X):\n",
    "        X = pd.get_dummies(X, prefix=self.key)\n",
    "        test_columns = [col for col in X.columns]\n",
    "        for col_ in self.columns:\n",
    "            if col_ not in test_columns:\n",
    "                X[col_] = 0\n",
    "        return X[self.columns]"
   ]
  },
  {
   "cell_type": "code",
   "execution_count": 3,
   "id": "d90e3ddc",
   "metadata": {},
   "outputs": [],
   "source": [
    "def get_metrics(y_test, preds):\n",
    "    \n",
    "    precision, recall, thresholds = precision_recall_curve(y_test, preds)\n",
    "    fscore = (2 * precision * recall) / (precision + recall)\n",
    "    ix = np.nanargmax(fscore)\n",
    "    \n",
    "    return roc_auc_score(y_test, preds), precision[ix], recall[ix], fscore[ix], thresholds[ix]"
   ]
  },
  {
   "cell_type": "markdown",
   "id": "d90c3e69",
   "metadata": {},
   "source": [
    "__1. Для нашего пайплайна (Case1) поэкспериментировать с разными моделями: 1 - бустинг, 2 - логистическая регрессия (не забудьте здесь добавить в cont_transformer стандартизацию - нормирование вещественных признаков)__"
   ]
  },
  {
   "cell_type": "code",
   "execution_count": 4,
   "id": "500f7b4a",
   "metadata": {},
   "outputs": [
    {
     "data": {
      "text/html": [
       "<div>\n",
       "<style scoped>\n",
       "    .dataframe tbody tr th:only-of-type {\n",
       "        vertical-align: middle;\n",
       "    }\n",
       "\n",
       "    .dataframe tbody tr th {\n",
       "        vertical-align: top;\n",
       "    }\n",
       "\n",
       "    .dataframe thead th {\n",
       "        text-align: right;\n",
       "    }\n",
       "</style>\n",
       "<table border=\"1\" class=\"dataframe\">\n",
       "  <thead>\n",
       "    <tr style=\"text-align: right;\">\n",
       "      <th></th>\n",
       "      <th>RowNumber</th>\n",
       "      <th>CustomerId</th>\n",
       "      <th>Surname</th>\n",
       "      <th>CreditScore</th>\n",
       "      <th>Geography</th>\n",
       "      <th>Gender</th>\n",
       "      <th>Age</th>\n",
       "      <th>Tenure</th>\n",
       "      <th>Balance</th>\n",
       "      <th>NumOfProducts</th>\n",
       "      <th>HasCrCard</th>\n",
       "      <th>IsActiveMember</th>\n",
       "      <th>EstimatedSalary</th>\n",
       "      <th>Exited</th>\n",
       "    </tr>\n",
       "  </thead>\n",
       "  <tbody>\n",
       "    <tr>\n",
       "      <th>0</th>\n",
       "      <td>1</td>\n",
       "      <td>15634602</td>\n",
       "      <td>Hargrave</td>\n",
       "      <td>619</td>\n",
       "      <td>France</td>\n",
       "      <td>Female</td>\n",
       "      <td>42</td>\n",
       "      <td>2</td>\n",
       "      <td>0.00</td>\n",
       "      <td>1</td>\n",
       "      <td>1</td>\n",
       "      <td>1</td>\n",
       "      <td>101348.88</td>\n",
       "      <td>1</td>\n",
       "    </tr>\n",
       "    <tr>\n",
       "      <th>1</th>\n",
       "      <td>2</td>\n",
       "      <td>15647311</td>\n",
       "      <td>Hill</td>\n",
       "      <td>608</td>\n",
       "      <td>Spain</td>\n",
       "      <td>Female</td>\n",
       "      <td>41</td>\n",
       "      <td>1</td>\n",
       "      <td>83807.86</td>\n",
       "      <td>1</td>\n",
       "      <td>0</td>\n",
       "      <td>1</td>\n",
       "      <td>112542.58</td>\n",
       "      <td>0</td>\n",
       "    </tr>\n",
       "    <tr>\n",
       "      <th>2</th>\n",
       "      <td>3</td>\n",
       "      <td>15619304</td>\n",
       "      <td>Onio</td>\n",
       "      <td>502</td>\n",
       "      <td>France</td>\n",
       "      <td>Female</td>\n",
       "      <td>42</td>\n",
       "      <td>8</td>\n",
       "      <td>159660.80</td>\n",
       "      <td>3</td>\n",
       "      <td>1</td>\n",
       "      <td>0</td>\n",
       "      <td>113931.57</td>\n",
       "      <td>1</td>\n",
       "    </tr>\n",
       "    <tr>\n",
       "      <th>3</th>\n",
       "      <td>4</td>\n",
       "      <td>15701354</td>\n",
       "      <td>Boni</td>\n",
       "      <td>699</td>\n",
       "      <td>France</td>\n",
       "      <td>Female</td>\n",
       "      <td>39</td>\n",
       "      <td>1</td>\n",
       "      <td>0.00</td>\n",
       "      <td>2</td>\n",
       "      <td>0</td>\n",
       "      <td>0</td>\n",
       "      <td>93826.63</td>\n",
       "      <td>0</td>\n",
       "    </tr>\n",
       "    <tr>\n",
       "      <th>4</th>\n",
       "      <td>5</td>\n",
       "      <td>15737888</td>\n",
       "      <td>Mitchell</td>\n",
       "      <td>850</td>\n",
       "      <td>Spain</td>\n",
       "      <td>Female</td>\n",
       "      <td>43</td>\n",
       "      <td>2</td>\n",
       "      <td>125510.82</td>\n",
       "      <td>1</td>\n",
       "      <td>1</td>\n",
       "      <td>1</td>\n",
       "      <td>79084.10</td>\n",
       "      <td>0</td>\n",
       "    </tr>\n",
       "  </tbody>\n",
       "</table>\n",
       "</div>"
      ],
      "text/plain": [
       "   RowNumber  CustomerId   Surname  CreditScore Geography  Gender  Age  \\\n",
       "0          1    15634602  Hargrave          619    France  Female   42   \n",
       "1          2    15647311      Hill          608     Spain  Female   41   \n",
       "2          3    15619304      Onio          502    France  Female   42   \n",
       "3          4    15701354      Boni          699    France  Female   39   \n",
       "4          5    15737888  Mitchell          850     Spain  Female   43   \n",
       "\n",
       "   Tenure    Balance  NumOfProducts  HasCrCard  IsActiveMember  \\\n",
       "0       2       0.00              1          1               1   \n",
       "1       1   83807.86              1          0               1   \n",
       "2       8  159660.80              3          1               0   \n",
       "3       1       0.00              2          0               0   \n",
       "4       2  125510.82              1          1               1   \n",
       "\n",
       "   EstimatedSalary  Exited  \n",
       "0        101348.88       1  \n",
       "1        112542.58       0  \n",
       "2        113931.57       1  \n",
       "3         93826.63       0  \n",
       "4         79084.10       0  "
      ]
     },
     "execution_count": 4,
     "metadata": {},
     "output_type": "execute_result"
    }
   ],
   "source": [
    "df = pd.read_csv(\"churn_data.csv\")\n",
    "df.head()"
   ]
  },
  {
   "cell_type": "code",
   "execution_count": 5,
   "id": "3ca7559d",
   "metadata": {},
   "outputs": [],
   "source": [
    "X_train, X_test, y_train, y_test = train_test_split(df, df['Exited'], random_state=0)"
   ]
  },
  {
   "cell_type": "code",
   "execution_count": 6,
   "id": "bd3ae5f8",
   "metadata": {},
   "outputs": [],
   "source": [
    "categorical_columns = ['Geography', 'Gender', 'Tenure', 'HasCrCard', 'IsActiveMember']\n",
    "continuous_columns = ['CreditScore', 'Age', 'Balance', 'NumOfProducts', 'EstimatedSalary']"
   ]
  },
  {
   "cell_type": "code",
   "execution_count": 7,
   "id": "40adfcf3",
   "metadata": {},
   "outputs": [],
   "source": [
    "final_transformers = list()\n",
    "\n",
    "for cat_col in categorical_columns:\n",
    "    cat_transformer = Pipeline([\n",
    "                ('selector', FeatureSelector(column=cat_col)),\n",
    "                ('ohe', OHEEncoder(key=cat_col))\n",
    "            ])\n",
    "    final_transformers.append((cat_col, cat_transformer))\n",
    "    \n",
    "for cont_col in continuous_columns:\n",
    "    cont_transformer = Pipeline([\n",
    "                ('selector', NumberSelector(key=cont_col)),\n",
    "                ('standard', StandardScaler())\n",
    "            ])\n",
    "    final_transformers.append((cont_col, cont_transformer))\n",
    "\n",
    "feats = FeatureUnion(final_transformers)"
   ]
  },
  {
   "cell_type": "markdown",
   "id": "0ca3b25a",
   "metadata": {},
   "source": [
    "- Бустинг"
   ]
  },
  {
   "cell_type": "code",
   "execution_count": 8,
   "id": "46c95889",
   "metadata": {},
   "outputs": [],
   "source": [
    "# pipeline_gb = Pipeline([\n",
    "#     ('features',feats),\n",
    "#     ('clf', GradientBoostingClassifier(random_state = 42)),\n",
    "# ])"
   ]
  },
  {
   "cell_type": "code",
   "execution_count": 9,
   "id": "d989adf7",
   "metadata": {},
   "outputs": [],
   "source": [
    "# params_est = {\n",
    "#     'clf__n_estimators': [200, 250, 300],\n",
    "#     'clf__learning_rate': np.linspace(0.09, 0.2, 4),\n",
    "#     'clf__subsample': [0.6, 0.7, 0.8],\n",
    "#     'clf__min_samples_leaf': [75, 150, 175],\n",
    "#     'clf__max_features': ['sqrt', 6],\n",
    "# }"
   ]
  },
  {
   "cell_type": "code",
   "execution_count": 10,
   "id": "0bd4be12",
   "metadata": {},
   "outputs": [
    {
     "data": {
      "text/plain": [
       "{'clf__learning_rate': 0.12666666666666668,\n",
       " 'clf__max_features': 6,\n",
       " 'clf__min_samples_leaf': 75,\n",
       " 'clf__n_estimators': 200,\n",
       " 'clf__subsample': 0.6}"
      ]
     },
     "execution_count": 10,
     "metadata": {},
     "output_type": "execute_result"
    }
   ],
   "source": [
    "# grid = GridSearchCV(pipeline_gb,\n",
    "#                     param_grid=params_est,\n",
    "#                     cv=6,\n",
    "#                     refit=False,  \n",
    "#                     n_jobs=-1)  \n",
    "\n",
    "# search = grid.fit(X_train, y_train)\n",
    "# search.best_params_"
   ]
  },
  {
   "cell_type": "code",
   "execution_count": 11,
   "id": "c3d778f5",
   "metadata": {
    "scrolled": true
   },
   "outputs": [],
   "source": [
    "pipeline_gb = Pipeline([\n",
    "    ('features',feats),\n",
    "    ('classifier', GradientBoostingClassifier(learning_rate=0.127,\n",
    "                                              max_features=6,\n",
    "                                              min_samples_leaf=75, \n",
    "                                              n_estimators=200,\n",
    "                                              subsample=0.6,\n",
    "                                              random_state=42)),\n",
    "])\n",
    "pipeline_gb.fit(X_train, y_train)\n",
    "preds_gb = pipeline_gb.predict_proba(X_test)[:, 1]"
   ]
  },
  {
   "cell_type": "markdown",
   "id": "5d43cd2b",
   "metadata": {},
   "source": [
    "- логистическая регрессия"
   ]
  },
  {
   "cell_type": "code",
   "execution_count": 12,
   "id": "1218879c",
   "metadata": {},
   "outputs": [],
   "source": [
    "# pipeline_lr = Pipeline([\n",
    "#     ('features',feats),\n",
    "#     ('clf', LogisticRegression(random_state = 42)),\n",
    "# ])"
   ]
  },
  {
   "cell_type": "code",
   "execution_count": 13,
   "id": "3a49fe24",
   "metadata": {},
   "outputs": [
    {
     "data": {
      "text/plain": [
       "{'clf__C': 0.23111111111111113}"
      ]
     },
     "execution_count": 13,
     "metadata": {},
     "output_type": "execute_result"
    }
   ],
   "source": [
    "# params_est = {'clf__C': np.linspace(0.01, 2, 10)}\n",
    "\n",
    "# grid = GridSearchCV(pipeline_lr,\n",
    "#                     param_grid=params_est,\n",
    "#                     cv=6,\n",
    "#                     refit=False,  \n",
    "#                     n_jobs=-1)  \n",
    "\n",
    "# search = grid.fit(X_train, y_train)\n",
    "# search.best_params_"
   ]
  },
  {
   "cell_type": "code",
   "execution_count": 14,
   "id": "d16c1347",
   "metadata": {},
   "outputs": [],
   "source": [
    "pipeline_lr = Pipeline([\n",
    "    ('features',feats),\n",
    "    ('clf', LogisticRegression(C=0.231, random_state = 42)),\n",
    "])\n",
    "pipeline_lr.fit(X_train, y_train)\n",
    "preds_lr = pipeline_lr.predict_proba(X_test)[:, 1]"
   ]
  },
  {
   "cell_type": "markdown",
   "id": "91c54b1f",
   "metadata": {},
   "source": [
    "__2. Отобрать лучшую модель по метрикам (кстати, какая по вашему мнению здесь наиболее подходящая DS-метрика)__"
   ]
  },
  {
   "cell_type": "code",
   "execution_count": 15,
   "id": "0d9dd2d0",
   "metadata": {},
   "outputs": [
    {
     "data": {
      "text/plain": [
       "0    0.7963\n",
       "1    0.2037\n",
       "Name: Exited, dtype: float64"
      ]
     },
     "execution_count": 15,
     "metadata": {},
     "output_type": "execute_result"
    }
   ],
   "source": [
    "df['Exited'].value_counts(normalize=True)"
   ]
  },
  {
   "cell_type": "markdown",
   "id": "94c2bcd6",
   "metadata": {},
   "source": [
    "Так как есть дисбаланс классов, но не чрезмерный, показательной будет оценка ROC-AUC. Но для оценки экономической эффективности может быть удобнее использовать fbeta_score - так как можно более гибко настроить приоритет точности или полноты классификации."
   ]
  },
  {
   "cell_type": "code",
   "execution_count": 16,
   "id": "44ab3532",
   "metadata": {},
   "outputs": [],
   "source": [
    "metrics = pd.DataFrame({\n",
    "    'roc_auc': [],\n",
    "    'precision': [],\n",
    "    'recall': [],\n",
    "    'f_score': [],\n",
    "    'threshold': []\n",
    "})"
   ]
  },
  {
   "cell_type": "code",
   "execution_count": 17,
   "id": "81c3cec7",
   "metadata": {},
   "outputs": [
    {
     "data": {
      "text/html": [
       "<div>\n",
       "<style scoped>\n",
       "    .dataframe tbody tr th:only-of-type {\n",
       "        vertical-align: middle;\n",
       "    }\n",
       "\n",
       "    .dataframe tbody tr th {\n",
       "        vertical-align: top;\n",
       "    }\n",
       "\n",
       "    .dataframe thead th {\n",
       "        text-align: right;\n",
       "    }\n",
       "</style>\n",
       "<table border=\"1\" class=\"dataframe\">\n",
       "  <thead>\n",
       "    <tr style=\"text-align: right;\">\n",
       "      <th></th>\n",
       "      <th>roc_auc</th>\n",
       "      <th>precision</th>\n",
       "      <th>recall</th>\n",
       "      <th>f_score</th>\n",
       "      <th>threshold</th>\n",
       "    </tr>\n",
       "  </thead>\n",
       "  <tbody>\n",
       "    <tr>\n",
       "      <th>gb</th>\n",
       "      <td>0.869549</td>\n",
       "      <td>0.64959</td>\n",
       "      <td>0.622790</td>\n",
       "      <td>0.635908</td>\n",
       "      <td>0.375636</td>\n",
       "    </tr>\n",
       "    <tr>\n",
       "      <th>lr</th>\n",
       "      <td>0.772308</td>\n",
       "      <td>0.46400</td>\n",
       "      <td>0.569745</td>\n",
       "      <td>0.511464</td>\n",
       "      <td>0.289131</td>\n",
       "    </tr>\n",
       "  </tbody>\n",
       "</table>\n",
       "</div>"
      ],
      "text/plain": [
       "     roc_auc  precision    recall   f_score  threshold\n",
       "gb  0.869549    0.64959  0.622790  0.635908   0.375636\n",
       "lr  0.772308    0.46400  0.569745  0.511464   0.289131"
      ]
     },
     "execution_count": 17,
     "metadata": {},
     "output_type": "execute_result"
    }
   ],
   "source": [
    "metrics.loc['gb'] = get_metrics(y_test, preds_gb)\n",
    "metrics.loc['lr'] = get_metrics(y_test, preds_lr)\n",
    "\n",
    "metrics"
   ]
  },
  {
   "cell_type": "markdown",
   "id": "1c5452e2",
   "metadata": {},
   "source": [
    "Лучшая модель по всем метрикам - GradientBoostingClassifier."
   ]
  },
  {
   "cell_type": "markdown",
   "id": "fa994b45",
   "metadata": {},
   "source": [
    "__3. Для отобранной модели (на отложенной выборке) сделать оценку экономической эффективности при тех же вводных, как в вопросе 2 (1 доллар на привлечение, 2 доллара - с каждого правильно классифицированного (True Positive) удержанного). (подсказка) нужно посчитать FP/TP/FN/TN для выбранного оптимального порога вероятности и посчитать выручку и траты.__"
   ]
  },
  {
   "cell_type": "code",
   "execution_count": 18,
   "id": "e921592d",
   "metadata": {},
   "outputs": [
    {
     "data": {
      "text/plain": [
       "array([[1820,  171],\n",
       "       [ 193,  316]], dtype=int64)"
      ]
     },
     "execution_count": 18,
     "metadata": {},
     "output_type": "execute_result"
    }
   ],
   "source": [
    "cnf_matrix = confusion_matrix(y_test, preds_gb > metrics.loc['gb', 'threshold'])\n",
    "cnf_matrix"
   ]
  },
  {
   "cell_type": "code",
   "execution_count": 19,
   "id": "b5084982",
   "metadata": {},
   "outputs": [
    {
     "name": "stdout",
     "output_type": "stream",
     "text": [
      "Доход от удержания: 632,\n",
      "Затраты на удержание: 487,\n",
      "Прибыль: 145\n"
     ]
    }
   ],
   "source": [
    "ret_price = 1\n",
    "ret_income = 2\n",
    "\n",
    "total_ret_income = cnf_matrix[1, 1] * ret_income\n",
    "retention_cost = sum(cnf_matrix[:, 1]) * ret_price\n",
    "print(f'Доход от удержания: {total_ret_income},\\n'\n",
    "      f'Затраты на удержание: {retention_cost},\\n'\n",
    "      f'Прибыль: {total_ret_income - retention_cost}')"
   ]
  },
  {
   "cell_type": "markdown",
   "id": "22af1528",
   "metadata": {},
   "source": [
    "__4. (опционально) Провести подбор гиперпараметров лучшей модели по итогам 2-3__"
   ]
  },
  {
   "cell_type": "code",
   "execution_count": 20,
   "id": "12944d9c",
   "metadata": {},
   "outputs": [],
   "source": [
    "def economic_efficiency(y_true, y_pred, ret_price=1, ret_income=2):\n",
    "    profit_th = []\n",
    "    trh_level = np.linspace(0, 1, 50)\n",
    "\n",
    "    for trh in trh_level:\n",
    "        cnf_matrix = confusion_matrix(y_true, y_pred > trh)\n",
    "        profit_th.append(cnf_matrix[1, 1] * ret_income - sum(cnf_matrix[:, 1]) * ret_price)\n",
    "\n",
    "    plt.plot(trh_level, profit_th)\n",
    "    plt.ylabel('руб')\n",
    "    plt.xlabel('threshold')\n",
    "    plt.title('profit')\n",
    "    plt.grid('on');\n",
    "    \n",
    "    return trh_level[profit_th.index(max(profit_th))]"
   ]
  },
  {
   "cell_type": "code",
   "execution_count": 21,
   "id": "a4a949f3",
   "metadata": {
    "scrolled": true
   },
   "outputs": [
    {
     "data": {
      "text/plain": [
       "0.5918367346938775"
      ]
     },
     "execution_count": 21,
     "metadata": {},
     "output_type": "execute_result"
    },
    {
     "data": {
      "image/png": "[encoded data removed]",
      "text/plain": [
       "<Figure size 432x288 with 1 Axes>"
      ]
     },
     "metadata": {
      "needs_background": "light"
     },
     "output_type": "display_data"
    }
   ],
   "source": [
    "new_trh = economic_efficiency(y_test, preds_gb)\n",
    "new_trh"
   ]
  },
  {
   "cell_type": "code",
   "execution_count": 22,
   "id": "0598b283",
   "metadata": {},
   "outputs": [
    {
     "data": {
      "text/plain": [
       "array([[1934,   57],\n",
       "       [ 269,  240]], dtype=int64)"
      ]
     },
     "execution_count": 22,
     "metadata": {},
     "output_type": "execute_result"
    }
   ],
   "source": [
    "cnf_matrix = confusion_matrix(y_test, preds_gb > new_trh)\n",
    "cnf_matrix"
   ]
  },
  {
   "cell_type": "markdown",
   "id": "a4ada6ba",
   "metadata": {},
   "source": [
    "Т.е. экономически наиболее выгодно до определённого предела уменьшать FP (precision важнее recoll)."
   ]
  },
  {
   "cell_type": "code",
   "execution_count": 23,
   "id": "81ddeb56",
   "metadata": {},
   "outputs": [
    {
     "data": {
      "text/plain": [
       "0.9101251422070535"
      ]
     },
     "execution_count": 23,
     "metadata": {},
     "output_type": "execute_result"
    }
   ],
   "source": [
    "precision = cnf_matrix[1, 1] / sum(cnf_matrix[:, 1])\n",
    "recall = cnf_matrix[1, 1] / sum(cnf_matrix[1])\n",
    "beta = 0.3\n",
    "fscore_b = (1 + beta) * precision * recall / ((beta**2 * precision) + recall)\n",
    "fscore_b"
   ]
  },
  {
   "cell_type": "markdown",
   "id": "721fb8eb",
   "metadata": {},
   "source": [
    "Пусть, к примеру $\\beta = 0.3$\n",
    "\n",
    "Подберём в GridSearchCV параметры с оценкой по метрике fbeta_score"
   ]
  },
  {
   "cell_type": "code",
   "execution_count": 24,
   "id": "8e6e9862",
   "metadata": {},
   "outputs": [],
   "source": [
    "pipeline = Pipeline([\n",
    "    ('features',feats),\n",
    "    ('clf', GradientBoostingClassifier(random_state = 42)),\n",
    "])"
   ]
  },
  {
   "cell_type": "code",
   "execution_count": 25,
   "id": "ccafa150",
   "metadata": {},
   "outputs": [],
   "source": [
    "f_scorer = make_scorer(fbeta_score, beta=0.3)\n",
    "\n",
    "params_est = {\n",
    "    'clf__n_estimators': [200, 250, 300],\n",
    "    'clf__learning_rate': np.linspace(0.09, 0.2, 4),\n",
    "    'clf__subsample': [0.6, 0.7, 0.8],\n",
    "    'clf__min_samples_leaf': [75, 150, 175],\n",
    "    'clf__max_features': ['sqrt', 6]\n",
    "}\n",
    "\n",
    "grid = GridSearchCV(pipeline,\n",
    "                    param_grid=params_est,\n",
    "                    cv=6,\n",
    "                    refit=False,  \n",
    "                    n_jobs=-1,\n",
    "                    scoring=f_scorer)"
   ]
  },
  {
   "cell_type": "code",
   "execution_count": 26,
   "id": "b06a03ec",
   "metadata": {},
   "outputs": [
    {
     "data": {
      "text/plain": [
       "{'clf__learning_rate': 0.09,\n",
       " 'clf__max_features': 6,\n",
       " 'clf__min_samples_leaf': 75,\n",
       " 'clf__n_estimators': 250,\n",
       " 'clf__subsample': 0.6}"
      ]
     },
     "execution_count": 26,
     "metadata": {},
     "output_type": "execute_result"
    }
   ],
   "source": [
    "search = grid.fit(X_train, y_train)\n",
    "search.best_params_"
   ]
  },
  {
   "cell_type": "code",
   "execution_count": 27,
   "id": "cf23e65d",
   "metadata": {
    "scrolled": true
   },
   "outputs": [],
   "source": [
    "params_gb = {'clf__learning_rate': 0.09,\n",
    "             'clf__max_features': 6,\n",
    "             'clf__min_samples_leaf': 75,\n",
    "             'clf__n_estimators': 250,\n",
    "             'clf__subsample': 0.6}\n",
    "\n",
    "pipeline.set_params(**params_gb)\n",
    "pipeline.fit(X_train, y_train)\n",
    "preds_gb = pipeline.predict_proba(X_test)[:, 1]"
   ]
  },
  {
   "cell_type": "markdown",
   "id": "ca9be9f3",
   "metadata": {},
   "source": [
    "__5. (опционально) Еще раз провести оценку экономической эффективности__"
   ]
  },
  {
   "cell_type": "code",
   "execution_count": 28,
   "id": "c17971d3",
   "metadata": {},
   "outputs": [
    {
     "data": {
      "text/plain": [
       "0.871344429105829"
      ]
     },
     "execution_count": 28,
     "metadata": {},
     "output_type": "execute_result"
    }
   ],
   "source": [
    "# неплохой результат\n",
    "roc_auc_score(y_test, preds_gb)"
   ]
  },
  {
   "cell_type": "code",
   "execution_count": 32,
   "id": "7ac00a56",
   "metadata": {},
   "outputs": [
    {
     "data": {
      "text/plain": [
       "0.5714285714285714"
      ]
     },
     "execution_count": 32,
     "metadata": {},
     "output_type": "execute_result"
    },
    {
     "data": {
      "image/png": "[encoded data removed]",
      "text/plain": [
       "<Figure size 432x288 with 1 Axes>"
      ]
     },
     "metadata": {
      "needs_background": "light"
     },
     "output_type": "display_data"
    }
   ],
   "source": [
    "# наиболее выгодный с экономической точки зрения порог\n",
    "trh = economic_efficiency(y_test, preds_gb)\n",
    "trh"
   ]
  },
  {
   "cell_type": "code",
   "execution_count": 33,
   "id": "39cf4321",
   "metadata": {},
   "outputs": [
    {
     "data": {
      "text/plain": [
       "array([[1931,   60],\n",
       "       [ 263,  246]], dtype=int64)"
      ]
     },
     "execution_count": 33,
     "metadata": {},
     "output_type": "execute_result"
    }
   ],
   "source": [
    "cnf_matrix = confusion_matrix(y_test, preds_gb > trh)\n",
    "cnf_matrix"
   ]
  },
  {
   "cell_type": "code",
   "execution_count": 31,
   "id": "584edaf6",
   "metadata": {},
   "outputs": [
    {
     "name": "stdout",
     "output_type": "stream",
     "text": [
      "Доход от удержания: 492,\n",
      "Затраты на удержание: 306,\n",
      "Прибыль: 186\n"
     ]
    }
   ],
   "source": [
    "ret_price = 1\n",
    "ret_income = 2\n",
    "\n",
    "# затраты на удержание:\n",
    "total_ret_income = cnf_matrix[1, 1] * ret_income\n",
    "retention_cost = sum(cnf_matrix[:, 1]) * ret_price\n",
    "print(f'Доход от удержания: {total_ret_income},\\n'\n",
    "      f'Затраты на удержание: {retention_cost},\\n'\n",
    "      f'Прибыль: {total_ret_income - retention_cost}')"
   ]
  },
  {
   "cell_type": "markdown",
   "id": "c8fb2924",
   "metadata": {},
   "source": [
    "Прибыль выросла."
   ]
  }
 ],
 "metadata": {
  "kernelspec": {
   "display_name": "Python 3 (ipykernel)",
   "language": "python",
   "name": "python3"
  },
  "language_info": {
   "codemirror_mode": {
    "name": "ipython",
    "version": 3
   },
   "file_extension": ".py",
   "mimetype": "text/x-python",
   "name": "python",
   "nbconvert_exporter": "python",
   "pygments_lexer": "ipython3",
   "version": "3.8.13"
  }
 },
 "nbformat": 4,
 "nbformat_minor": 5
}
