{
 "cells": [
  {
   "cell_type": "code",
   "execution_count": 1,
   "id": "9b9ab065",
   "metadata": {},
   "outputs": [],
   "source": [
    "import numpy as np\n",
    "import pandas as pd\n",
    "import matplotlib.pyplot as plt\n",
    "\n",
    "from sklearn.linear_model import LogisticRegression\n",
    "from sklearn.ensemble import RandomForestClassifier\n",
    "from sklearn.neighbors import KNeighborsClassifier\n",
    "from sklearn.model_selection import cross_val_score, train_test_split\n",
    "from sklearn.preprocessing import StandardScaler\n",
    "from sklearn.base import BaseEstimator, TransformerMixin\n",
    "from sklearn.pipeline import Pipeline, FeatureUnion\n",
    "from sklearn.metrics import f1_score, roc_auc_score, precision_score, precision_recall_curve \n",
    "\n",
    "import warnings\n",
    "\n",
    "warnings.filterwarnings('ignore')\n",
    "%matplotlib inline"
   ]
  },
  {
   "cell_type": "code",
   "execution_count": 2,
   "id": "ebd672c4",
   "metadata": {},
   "outputs": [],
   "source": [
    "class ColumnSelector(BaseEstimator, TransformerMixin):\n",
    "    \"\"\"\n",
    "    Transformer to select a single column from the data frame to perform additional transformations on\n",
    "    \"\"\"\n",
    "    def __init__(self, key):\n",
    "        self.key = key\n",
    "\n",
    "    def fit(self, X, y=None):\n",
    "        return self\n",
    "\n",
    "    def transform(self, X):\n",
    "        return X[self.key]\n",
    "   \n",
    "\n",
    "class NumberSelector(BaseEstimator, TransformerMixin):\n",
    "    \"\"\"\n",
    "    Transformer to select a single column from the data frame to perform additional transformations on\n",
    "    Use on numeric columns in the data\n",
    "    \"\"\"\n",
    "    def __init__(self, key):\n",
    "        self.key = key\n",
    "\n",
    "    def fit(self, X, y=None):\n",
    "        return self\n",
    "\n",
    "    def transform(self, X):\n",
    "        return X[[self.key]]\n",
    "\n",
    "\n",
    "class OHEEncoder(BaseEstimator, TransformerMixin):\n",
    "    def __init__(self, key):\n",
    "        self.key = key\n",
    "        self.columns = []\n",
    "\n",
    "    def fit(self, X, y=None):\n",
    "        self.columns = [col for col in pd.get_dummies(X, prefix=self.key).columns]\n",
    "        return self\n",
    "\n",
    "    def transform(self, X):\n",
    "        X = pd.get_dummies(X, prefix=self.key)\n",
    "        test_columns = [col for col in X.columns]\n",
    "        for col_ in test_columns:\n",
    "            if col_ not in self.columns:\n",
    "                X[col_] = 0  \n",
    "        return X[self.columns]"
   ]
  },
  {
   "cell_type": "code",
   "execution_count": 3,
   "id": "8e57e43b",
   "metadata": {},
   "outputs": [],
   "source": [
    "# сохраняет метрики качества\n",
    "def get_metrics(y_test, preds):\n",
    "    \n",
    "    precision, recall, thresholds = precision_recall_curve(y_test, preds)\n",
    "    fscore = (2 * precision * recall) / (precision + recall)\n",
    "    ix = np.nanargmax(fscore)  # игнорирует nan\n",
    "    \n",
    "    return roc_auc_score(y_test, preds), precision[ix], recall[ix], fscore[ix]"
   ]
  },
  {
   "cell_type": "code",
   "execution_count": 4,
   "id": "145a8f16",
   "metadata": {},
   "outputs": [
    {
     "data": {
      "text/html": [
       "<div>\n",
       "<style scoped>\n",
       "    .dataframe tbody tr th:only-of-type {\n",
       "        vertical-align: middle;\n",
       "    }\n",
       "\n",
       "    .dataframe tbody tr th {\n",
       "        vertical-align: top;\n",
       "    }\n",
       "\n",
       "    .dataframe thead th {\n",
       "        text-align: right;\n",
       "    }\n",
       "</style>\n",
       "<table border=\"1\" class=\"dataframe\">\n",
       "  <thead>\n",
       "    <tr style=\"text-align: right;\">\n",
       "      <th></th>\n",
       "      <th>id</th>\n",
       "      <th>age</th>\n",
       "      <th>gender</th>\n",
       "      <th>height</th>\n",
       "      <th>weight</th>\n",
       "      <th>ap_hi</th>\n",
       "      <th>ap_lo</th>\n",
       "      <th>cholesterol</th>\n",
       "      <th>gluc</th>\n",
       "      <th>smoke</th>\n",
       "      <th>alco</th>\n",
       "      <th>active</th>\n",
       "      <th>cardio</th>\n",
       "    </tr>\n",
       "  </thead>\n",
       "  <tbody>\n",
       "    <tr>\n",
       "      <th>0</th>\n",
       "      <td>0</td>\n",
       "      <td>18393</td>\n",
       "      <td>2</td>\n",
       "      <td>168</td>\n",
       "      <td>62.0</td>\n",
       "      <td>110</td>\n",
       "      <td>80</td>\n",
       "      <td>1</td>\n",
       "      <td>1</td>\n",
       "      <td>0</td>\n",
       "      <td>0</td>\n",
       "      <td>1</td>\n",
       "      <td>0</td>\n",
       "    </tr>\n",
       "    <tr>\n",
       "      <th>1</th>\n",
       "      <td>1</td>\n",
       "      <td>20228</td>\n",
       "      <td>1</td>\n",
       "      <td>156</td>\n",
       "      <td>85.0</td>\n",
       "      <td>140</td>\n",
       "      <td>90</td>\n",
       "      <td>3</td>\n",
       "      <td>1</td>\n",
       "      <td>0</td>\n",
       "      <td>0</td>\n",
       "      <td>1</td>\n",
       "      <td>1</td>\n",
       "    </tr>\n",
       "    <tr>\n",
       "      <th>2</th>\n",
       "      <td>2</td>\n",
       "      <td>18857</td>\n",
       "      <td>1</td>\n",
       "      <td>165</td>\n",
       "      <td>64.0</td>\n",
       "      <td>130</td>\n",
       "      <td>70</td>\n",
       "      <td>3</td>\n",
       "      <td>1</td>\n",
       "      <td>0</td>\n",
       "      <td>0</td>\n",
       "      <td>0</td>\n",
       "      <td>1</td>\n",
       "    </tr>\n",
       "  </tbody>\n",
       "</table>\n",
       "</div>"
      ],
      "text/plain": [
       "   id    age  gender  height  weight  ap_hi  ap_lo  cholesterol  gluc  smoke  \\\n",
       "0   0  18393       2     168    62.0    110     80            1     1      0   \n",
       "1   1  20228       1     156    85.0    140     90            3     1      0   \n",
       "2   2  18857       1     165    64.0    130     70            3     1      0   \n",
       "\n",
       "   alco  active  cardio  \n",
       "0     0       1       0  \n",
       "1     0       1       1  \n",
       "2     0       0       1  "
      ]
     },
     "execution_count": 4,
     "metadata": {},
     "output_type": "execute_result"
    }
   ],
   "source": [
    "df = pd.read_csv('train_case2.csv', sep=';')\n",
    "df.head(3)"
   ]
  },
  {
   "cell_type": "code",
   "execution_count": 5,
   "id": "23df5fac",
   "metadata": {},
   "outputs": [],
   "source": [
    "X_train, X_test, y_train, y_test = train_test_split(df.drop('cardio', axis=1), \n",
    "                                                    df['cardio'], random_state=0)"
   ]
  },
  {
   "cell_type": "code",
   "execution_count": 6,
   "id": "178f2258",
   "metadata": {},
   "outputs": [],
   "source": [
    "continuos_cols = ['age', 'height', 'weight', 'ap_hi', 'ap_lo']\n",
    "cat_cols = ['gender', 'cholesterol']\n",
    "base_cols = ['gluc', 'smoke', 'alco', 'active']\n",
    "\n",
    "continuos_transformers = []\n",
    "cat_transformers = []\n",
    "base_transformers = []\n",
    "\n",
    "\n",
    "for cont_col in continuos_cols:\n",
    "    transfomer =  Pipeline([\n",
    "                ('selector', NumberSelector(key=cont_col)),\n",
    "                ('standard', StandardScaler())\n",
    "            ])\n",
    "    continuos_transformers.append((cont_col, transfomer))\n",
    "    \n",
    "    \n",
    "for cat_col in cat_cols:\n",
    "    cat_transformer = Pipeline([\n",
    "                ('selector', ColumnSelector(key=cat_col)),\n",
    "                ('ohe', OHEEncoder(key=cat_col))\n",
    "            ])\n",
    "    cat_transformers.append((cat_col, cat_transformer))\n",
    "\n",
    "    \n",
    "for base_col in base_cols:\n",
    "    base_transformer = Pipeline([\n",
    "                ('selector', NumberSelector(key=base_col))\n",
    "            ])\n",
    "    base_transformers.append((base_col, base_transformer))"
   ]
  },
  {
   "cell_type": "code",
   "execution_count": 7,
   "id": "7ac94224",
   "metadata": {},
   "outputs": [],
   "source": [
    "feats = FeatureUnion(continuos_transformers + cat_transformers + base_transformers)"
   ]
  },
  {
   "cell_type": "markdown",
   "id": "54bdbb2a",
   "metadata": {},
   "source": [
    "__1. обучить несколько разных моделей на наборе данных ССЗ (train_case2.csv): логрег, бустинг, лес и т.д - на ваш выбор 2-3 варианта__\n",
    "\n",
    "__2. при обучении моделей обязательно использовать кроссвалидацию__"
   ]
  },
  {
   "cell_type": "markdown",
   "id": "8a50eaa3",
   "metadata": {},
   "source": [
    "- LogisticRegression"
   ]
  },
  {
   "cell_type": "code",
   "execution_count": 8,
   "id": "73a46226",
   "metadata": {},
   "outputs": [],
   "source": [
    "classifier = Pipeline([\n",
    "    ('features',feats),\n",
    "    ('classifier', LogisticRegression(C=5, random_state=42)),\n",
    "])"
   ]
  },
  {
   "cell_type": "code",
   "execution_count": 9,
   "id": "09f9a18b",
   "metadata": {},
   "outputs": [
    {
     "name": "stdout",
     "output_type": "stream",
     "text": [
      "CV score is 0.786840630651526+-0.0032048317025584086\n"
     ]
    }
   ],
   "source": [
    "cv_scores = cross_val_score(classifier, X_train, y_train, cv=8, scoring='roc_auc', n_jobs=-1)\n",
    "\n",
    "print('CV score is {}+-{}'.format(np.mean(cv_scores), np.std(cv_scores)))"
   ]
  },
  {
   "cell_type": "code",
   "execution_count": 10,
   "id": "58647424",
   "metadata": {},
   "outputs": [],
   "source": [
    "classifier.fit(X_train, y_train)\n",
    "y_pred = classifier.predict_proba(X_test)[:, 1]"
   ]
  },
  {
   "cell_type": "code",
   "execution_count": 11,
   "id": "7d7f186e",
   "metadata": {},
   "outputs": [
    {
     "data": {
      "text/plain": [
       "[(0.7842129716710032,\n",
       "  0.6469542018674966,\n",
       "  0.8381336405529954,\n",
       "  0.7302383939774154)]"
      ]
     },
     "execution_count": 11,
     "metadata": {},
     "output_type": "execute_result"
    }
   ],
   "source": [
    "metrics = []\n",
    "metrics.append(get_metrics(y_test, y_pred))\n",
    "metrics"
   ]
  },
  {
   "cell_type": "markdown",
   "id": "b286e8f4",
   "metadata": {},
   "source": [
    "- RandomForest"
   ]
  },
  {
   "cell_type": "code",
   "execution_count": 12,
   "id": "93319397",
   "metadata": {},
   "outputs": [],
   "source": [
    "classifier = Pipeline([\n",
    "    ('features',feats),\n",
    "    ('classifier', RandomForestClassifier(n_estimators=100, \n",
    "                                          min_samples_split=10, \n",
    "                                          random_state=42,\n",
    "                                          min_samples_leaf=6))\n",
    "])"
   ]
  },
  {
   "cell_type": "code",
   "execution_count": 13,
   "id": "80553ebf",
   "metadata": {},
   "outputs": [
    {
     "name": "stdout",
     "output_type": "stream",
     "text": [
      "CV score is 0.8001800946482686+-0.0035340635517335816\n"
     ]
    }
   ],
   "source": [
    "cv_scores = cross_val_score(classifier, X_train, y_train, cv=8, scoring='roc_auc', n_jobs=-1)\n",
    "\n",
    "print('CV score is {}+-{}'.format(np.mean(cv_scores), np.std(cv_scores)))"
   ]
  },
  {
   "cell_type": "code",
   "execution_count": 14,
   "id": "165dd18b",
   "metadata": {},
   "outputs": [],
   "source": [
    "classifier.fit(X_train, y_train)\n",
    "y_pred = classifier.predict_proba(X_test)[:, 1]"
   ]
  },
  {
   "cell_type": "code",
   "execution_count": 15,
   "id": "7921b5fa",
   "metadata": {},
   "outputs": [
    {
     "data": {
      "text/plain": [
       "[(0.7842129716710032,\n",
       "  0.6469542018674966,\n",
       "  0.8381336405529954,\n",
       "  0.7302383939774154),\n",
       " (0.7991978131498375,\n",
       "  0.6943461110549206,\n",
       "  0.7908986175115207,\n",
       "  0.7394840308073464)]"
      ]
     },
     "execution_count": 15,
     "metadata": {},
     "output_type": "execute_result"
    }
   ],
   "source": [
    "metrics.append(get_metrics(y_test, y_pred))\n",
    "metrics"
   ]
  },
  {
   "cell_type": "markdown",
   "id": "3b85f173",
   "metadata": {},
   "source": [
    "- KNN"
   ]
  },
  {
   "cell_type": "code",
   "execution_count": 16,
   "id": "95bc3e9e",
   "metadata": {},
   "outputs": [],
   "source": [
    "classifier = Pipeline([\n",
    "    ('features',feats),\n",
    "    ('classifier', KNeighborsClassifier(n_neighbors=12)),\n",
    "])"
   ]
  },
  {
   "cell_type": "code",
   "execution_count": 17,
   "id": "85938032",
   "metadata": {},
   "outputs": [
    {
     "name": "stdout",
     "output_type": "stream",
     "text": [
      "CV score is 0.719067134571066+-0.004761718236228912\n"
     ]
    }
   ],
   "source": [
    "cv_scores = cross_val_score(classifier, X_train, y_train, cv=8, scoring='roc_auc', n_jobs=-1)\n",
    "\n",
    "print('CV score is {}+-{}'.format(np.mean(cv_scores), np.std(cv_scores)))"
   ]
  },
  {
   "cell_type": "code",
   "execution_count": 18,
   "id": "37a013ef",
   "metadata": {},
   "outputs": [],
   "source": [
    "classifier.fit(X_train, y_train)\n",
    "y_pred = classifier.predict_proba(X_test)[:, 1]"
   ]
  },
  {
   "cell_type": "code",
   "execution_count": 19,
   "id": "c87024d0",
   "metadata": {},
   "outputs": [
    {
     "data": {
      "text/plain": [
       "[(0.7842129716710032,\n",
       "  0.6469542018674966,\n",
       "  0.8381336405529954,\n",
       "  0.7302383939774154),\n",
       " (0.7991978131498375,\n",
       "  0.6943461110549206,\n",
       "  0.7908986175115207,\n",
       "  0.7394840308073464),\n",
       " (0.7172144698893382,\n",
       "  0.5800472885363436,\n",
       "  0.8761520737327189,\n",
       "  0.6979945849203799)]"
      ]
     },
     "execution_count": 19,
     "metadata": {},
     "output_type": "execute_result"
    }
   ],
   "source": [
    "metrics.append(get_metrics(y_test, y_pred))\n",
    "metrics"
   ]
  },
  {
   "cell_type": "markdown",
   "id": "5d59bce1",
   "metadata": {},
   "source": [
    "__3. вывести сравнение полученных моделей по основным метрикам классификации: pr/rec/auc/f_score (можно в виде таблицы, где строки - модели, а столбцы - метрики)__"
   ]
  },
  {
   "cell_type": "code",
   "execution_count": 20,
   "id": "c7b8da0a",
   "metadata": {},
   "outputs": [
    {
     "data": {
      "text/html": [
       "<div>\n",
       "<style scoped>\n",
       "    .dataframe tbody tr th:only-of-type {\n",
       "        vertical-align: middle;\n",
       "    }\n",
       "\n",
       "    .dataframe tbody tr th {\n",
       "        vertical-align: top;\n",
       "    }\n",
       "\n",
       "    .dataframe thead th {\n",
       "        text-align: right;\n",
       "    }\n",
       "</style>\n",
       "<table border=\"1\" class=\"dataframe\">\n",
       "  <thead>\n",
       "    <tr style=\"text-align: right;\">\n",
       "      <th></th>\n",
       "      <th>roc_auc_score</th>\n",
       "      <th>precision</th>\n",
       "      <th>recall</th>\n",
       "      <th>f_score</th>\n",
       "    </tr>\n",
       "  </thead>\n",
       "  <tbody>\n",
       "    <tr>\n",
       "      <th>LogisticRegression</th>\n",
       "      <td>0.784213</td>\n",
       "      <td>0.646954</td>\n",
       "      <td>0.838134</td>\n",
       "      <td>0.730238</td>\n",
       "    </tr>\n",
       "    <tr>\n",
       "      <th>RandomForest</th>\n",
       "      <td>0.799198</td>\n",
       "      <td>0.694346</td>\n",
       "      <td>0.790899</td>\n",
       "      <td>0.739484</td>\n",
       "    </tr>\n",
       "    <tr>\n",
       "      <th>KNN</th>\n",
       "      <td>0.717214</td>\n",
       "      <td>0.580047</td>\n",
       "      <td>0.876152</td>\n",
       "      <td>0.697995</td>\n",
       "    </tr>\n",
       "  </tbody>\n",
       "</table>\n",
       "</div>"
      ],
      "text/plain": [
       "                    roc_auc_score  precision    recall   f_score\n",
       "LogisticRegression       0.784213   0.646954  0.838134  0.730238\n",
       "RandomForest             0.799198   0.694346  0.790899  0.739484\n",
       "KNN                      0.717214   0.580047  0.876152  0.697995"
      ]
     },
     "execution_count": 20,
     "metadata": {},
     "output_type": "execute_result"
    }
   ],
   "source": [
    "columns = ['roc_auc_score', 'precision', 'recall', 'f_score']\n",
    "indexes = ['LogisticRegression', 'RandomForest', 'KNN']\n",
    "\n",
    "metrics_df = pd.DataFrame(metrics, columns=columns, index=indexes)\n",
    "metrics_df"
   ]
  },
  {
   "cell_type": "markdown",
   "id": "e73cd00b",
   "metadata": {},
   "source": [
    "__4. сделать выводы о том, какая модель справилась с задачей лучше других__"
   ]
  },
  {
   "cell_type": "markdown",
   "id": "81d56395",
   "metadata": {},
   "source": [
    "RandomForest и LogisticRegression дают сравнительно одинаковые метрики. При этом RandomForest позволяет получить чуть более сбалансированные показатели точности и полноты. Несколько хуже с классификацией справляется KNN."
   ]
  },
  {
   "cell_type": "code",
   "execution_count": 21,
   "id": "47cf93ea",
   "metadata": {},
   "outputs": [],
   "source": [
    "from sklearn.decomposition import PCA\n",
    "\n",
    "classifierPCA = Pipeline([\n",
    "    ('features',feats),\n",
    "    ('classifier', PCA(n_components=2, random_state=42)),\n",
    "])"
   ]
  },
  {
   "cell_type": "code",
   "execution_count": 22,
   "id": "d9ff4f73",
   "metadata": {},
   "outputs": [],
   "source": [
    "new_x = classifierPCA.fit_transform(X_train)"
   ]
  },
  {
   "cell_type": "code",
   "execution_count": 23,
   "id": "8287e43d",
   "metadata": {},
   "outputs": [
    {
     "data": {
      "image/png": "[encoded data removed]",
      "text/plain": [
       "<Figure size 432x288 with 1 Axes>"
      ]
     },
     "metadata": {
      "needs_background": "light"
     },
     "output_type": "display_data"
    }
   ],
   "source": [
    "plt.scatter(new_x[:, 0], new_x[:, 1],  c=y_train);"
   ]
  },
  {
   "cell_type": "markdown",
   "id": "801c3d6a",
   "metadata": {},
   "source": [
    "Но, учитывая визуализацию кластеров с понижением размерности, KNN не лучший выбор для классификации (вытянутый \"слипшийся\" кластер, в который попадает основное число наблюдений, сохраняет свою форму и при n_components=3)."
   ]
  },
  {
   "cell_type": "markdown",
   "id": "c2e20623",
   "metadata": {},
   "source": [
    "__5. (опциональный вопрос) какая метрика (precision_recall_curve или roc_auc_curve) больше подходит в случае сильного дисбаланса классов? (когда объектов одного из классов намного больше чем другого).__\n",
    "\n",
    "p.s.В вопросе проще разобраться, если вспомнить оси на графике roc auc curve и рассмотреть такой пример:\n",
    "\n",
    "Имеется 100000 объектов, из которых только 100 - класс \"1\" (99900 - класс \"0\", соответственно). \n",
    "Допустим, у нас две модели:\n",
    "\n",
    "- первая помечает 100 объектов как класс 1, но TP = 90\n",
    "- вторая помечает 1000 объектов как класс 1, но TP такой же - 90\n",
    "\n",
    "Какая модель лучше и почему? И что позволяет легче сделать вывод - roc_auc_curve или precision_recall_curve?"
   ]
  },
  {
   "cell_type": "code",
   "execution_count": null,
   "id": "a622a09d",
   "metadata": {},
   "outputs": [],
   "source": []
  },
  {
   "cell_type": "markdown",
   "id": "0176a7e2",
   "metadata": {},
   "source": [
    "При сильном дисбалансе для оценки качества больше подходит precision_recall_curve: так как roc_auc_curve строится в координатах TPR (доля истинно положительных) и FPR (доля ложноположительных ответов), то, к примеру, при сильном дисбалансе в сторону нулевого класса, изменение числа FP (ложных срабатываний) будет незначительно сказываться на FPR  в целом."
   ]
  },
  {
   "cell_type": "markdown",
   "id": "9fac823f",
   "metadata": {},
   "source": [
    "Две набора метрик для указанного примера:"
   ]
  },
  {
   "cell_type": "code",
   "execution_count": 24,
   "id": "4173f8eb",
   "metadata": {},
   "outputs": [],
   "source": [
    "n = 100000\n",
    "y1 = 100\n",
    "y0 = n - y1"
   ]
  },
  {
   "cell_type": "code",
   "execution_count": 25,
   "id": "d7acc15a",
   "metadata": {},
   "outputs": [
    {
     "name": "stdout",
     "output_type": "stream",
     "text": [
      "confusion_matrix:\n",
      "\t99890\t10\n",
      "\t10\t90\n",
      "metrics:\n",
      "\tTPR-FPR: (0.9, 0.0001001001001001001)\n",
      "\trecall-precision: (0.9, 0.9)\n"
     ]
    }
   ],
   "source": [
    "# первая модель\n",
    "y1_pred = 100\n",
    "\n",
    "TP = 90\n",
    "FP = y1_pred - TP\n",
    "FN = y1 - TP\n",
    "TN = n - y1 - FP\n",
    "print(f'confusion_matrix:\\n\\t{TN}\\t{FN}\\n\\t{FP}\\t{TP}')\n",
    "\n",
    "TPR = TP / (TP + FN)\n",
    "FPR = FP / (FP + TN)\n",
    "\n",
    "precision = TP / (TP + FP)\n",
    "recall = TP / (TP + FN)\n",
    "\n",
    "print(f'metrics:\\n\\tTPR-FPR: {TPR, FPR}\\n\\trecall-precision: {recall, precision}')"
   ]
  },
  {
   "cell_type": "code",
   "execution_count": 26,
   "id": "b43c07b7",
   "metadata": {},
   "outputs": [
    {
     "name": "stdout",
     "output_type": "stream",
     "text": [
      "confusion_matrix:\n",
      "\t98990\t10\n",
      "\t910\t90\n",
      "metrics:\n",
      "\tTPR-FPR: (0.9, 0.00910910910910911)\n",
      "\trecall-precision: (0.9, 0.09)\n"
     ]
    }
   ],
   "source": [
    "# вторая модель\n",
    "y1_pred = 1000\n",
    "\n",
    "TP = 90\n",
    "FP = y1_pred - TP\n",
    "FN = y1 - TP\n",
    "TN = n - y1 - FP\n",
    "print(f'confusion_matrix:\\n\\t{TN}\\t{FN}\\n\\t{FP}\\t{TP}')\n",
    "\n",
    "TPR = TP / (TP + FN)\n",
    "FPR = FP / (FP + TN)\n",
    "\n",
    "precision = TP / (TP + FP)\n",
    "recall = TP / (TP + FN)\n",
    "\n",
    "print(f'metrics:\\n\\tTPR-FPR: {TPR, FPR}\\n\\trecall-precision: {recall, precision}')"
   ]
  },
  {
   "cell_type": "markdown",
   "id": "4fd2f30a",
   "metadata": {},
   "source": [
    "Т.е. очевидно, что 2-я модель справляется хуже, хотя обладает той же полнотой (recall = TPR = 0.9 для обеих моделей).\n",
    "\n",
    "И, хотя число FP меняется от 10 до 910 при переходе от одной модели к другой, по второму измерению для roc-auc разница между моделями (дельта по FPR = 0.0089) не так значительна, как для precision-recall (измерение precision - дельта = 0.81). А, значит, проще опираться на precision-recall."
   ]
  }
 ],
 "metadata": {
  "kernelspec": {
   "display_name": "Python 3 (ipykernel)",
   "language": "python",
   "name": "python3"
  },
  "language_info": {
   "codemirror_mode": {
    "name": "ipython",
    "version": 3
   },
   "file_extension": ".py",
   "mimetype": "text/x-python",
   "name": "python",
   "nbconvert_exporter": "python",
   "pygments_lexer": "ipython3",
   "version": "3.8.13"
  }
 },
 "nbformat": 4,
 "nbformat_minor": 5
}
